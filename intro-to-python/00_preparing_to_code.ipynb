{
  "nbformat": 4,
  "nbformat_minor": 0,
  "metadata": {
    "colab": {
      "name": "00_preparing_to_code.ipynb",
      "provenance": [],
      "collapsed_sections": [],
      "authorship_tag": "ABX9TyMM8cLHdo8GGt1eMUmkRGh6",
      "include_colab_link": true
    },
    "kernelspec": {
      "name": "python3",
      "display_name": "Python 3"
    }
  },
  "cells": [
    {
      "cell_type": "markdown",
      "metadata": {
        "id": "view-in-github",
        "colab_type": "text"
      },
      "source": [
        "<a href=\"https://colab.research.google.com/github/Ada-Developers-Academy/ada-build/blob/build-reorg/00_preparing_to_code.ipynb\" target=\"_parent\"><img src=\"https://colab.research.google.com/assets/colab-badge.svg\" alt=\"Open In Colab\"/></a>"
      ]
    },
    {
      "cell_type": "markdown",
      "metadata": {
        "id": "X-kxM3kGqVap",
        "colab_type": "text"
      },
      "source": [
        "**Preparing to Code**\n",
        "\n",
        "_Ada Build - Lesson 0_"
      ]
    },
    {
      "cell_type": "markdown",
      "metadata": {
        "id": "wgEtUJ9Lqn_k",
        "colab_type": "text"
      },
      "source": [
        "# Google Colab\n",
        "\n",
        "For the _Learning to Code_ portion of the Ada Build Curriculum you will review notes and complete exercises in a series of lessons in **Google Colab** Colab is google's hosting of Jupyter Notebook, an open-source web application that allows you to create and share documents that contain live code, equations, visualizations and narrative text. Uses for Jupyter Notebook include: data cleaning and transformation, numerical simulation, statistical modeling, data visualization, machine learning, and much more. Here we are using colab and jupyter notebook to create an interative intro to python course."
      ]
    },
    {
      "cell_type": "markdown",
      "metadata": {
        "id": "Qm8TQTTBq5f2",
        "colab_type": "text"
      },
      "source": [
        "## Text Cells\n",
        "\n",
        "This is a text cell. It's markup language called _markdown_. Double click and notice the notice the options you have for formatting. For the most part, you won't need to edit the text cells. The text cells are used to deliver content for you to review."
      ]
    },
    {
      "cell_type": "markdown",
      "metadata": {
        "id": "kiUZH2UErg_J",
        "colab_type": "text"
      },
      "source": [
        "## Code Cell\n",
        "\n",
        "The cell below is a code cell. You'll be completing programming exercises in the code cells."
      ]
    },
    {
      "cell_type": "code",
      "metadata": {
        "id": "1tev_KkEqQtC",
        "colab_type": "code",
        "colab": {
          "base_uri": "https://localhost:8080/",
          "height": 35
        },
        "outputId": "71456a37-c146-4b13-8a7d-3ad63d4f378a"
      },
      "source": [
        "# press the play button on the left side of this cell to see a code cell in action\n",
        "5+5"
      ],
      "execution_count": null,
      "outputs": [
        {
          "output_type": "execute_result",
          "data": {
            "text/plain": [
              "10"
            ]
          },
          "metadata": {
            "tags": []
          },
          "execution_count": 1
        }
      ]
    },
    {
      "cell_type": "markdown",
      "metadata": {
        "id": "9GwVna0_3PR-",
        "colab_type": "text"
      },
      "source": [
        " And that's all you need to know for now. Onward!"
      ]
    }
  ]
}