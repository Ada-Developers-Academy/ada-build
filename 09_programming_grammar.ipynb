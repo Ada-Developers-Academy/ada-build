{
  "nbformat": 4,
  "nbformat_minor": 0,
  "metadata": {
    "colab": {
      "name": "09_programming_grammar.ipynb",
      "provenance": [],
      "toc_visible": true,
      "authorship_tag": "ABX9TyOCzNnoZyQrf6RUn/O2sveM",
      "include_colab_link": true
    },
    "kernelspec": {
      "name": "python3",
      "display_name": "Python 3"
    }
  },
  "cells": [
    {
      "cell_type": "markdown",
      "metadata": {
        "id": "view-in-github",
        "colab_type": "text"
      },
      "source": [
        "<a href=\"https://colab.research.google.com/github/Ada-Developers-Academy/jump-start/blob/python-learning-to-code/09_programming_grammar.ipynb\" target=\"_parent\"><img src=\"https://colab.research.google.com/assets/colab-badge.svg\" alt=\"Open In Colab\"/></a>"
      ]
    },
    {
      "cell_type": "markdown",
      "metadata": {
        "id": "BEhGh3j7X_ai",
        "colab_type": "text"
      },
      "source": [
        "# Programming Grammar"
      ]
    },
    {
      "cell_type": "markdown",
      "metadata": {
        "id": "5bWRMZSwX6-2",
        "colab_type": "text"
      },
      "source": [
        "## Learning Goals\n",
        "* Understand and identify different data types (string, integer, float)\n",
        "* Assign data to variables\n",
        "* Use the `print` function\n",
        "* Understand and use string concatenation and string interpolation\n",
        "* Practice debugging Python code"
      ]
    },
    {
      "cell_type": "markdown",
      "metadata": {
        "id": "lFystvbEYMr_",
        "colab_type": "text"
      },
      "source": [
        "## Activities\n",
        "\n",
        "* Review [notes](https://colab.research.google.com/drive/1kfE-bujlwiJoDxTWIXa8u1GPGDJAnjvS#scrollTo=8vNe319OYQvw&line=1&uniqifier=1) within this section\n",
        "* Watch [Video: Now we're programming!](https://adaacademy.hosted.panopto.com/Panopto/Pages/Viewer.aspx?id=4df0c8ab-64fc-4186-a9e2-a8c4014a4b4b)\n",
        "* Complete the [practice problems](./practice-problems.md) and then check your answers using `irb`\n",
        "* Complete the [Numbers problem assignment](#numbers-problem-assignment)\n",
        "* Complete the [MadLib assignment](#madlib-assignment)\n",
        "* [Optional] For additional learning and practice, look at the lessons and exercises of [Day 1 of JumpStart Live](https://github.com/Ada-Developers-Academy/jump-start-live/tree/master/lessons/day1#lessons). "
      ]
    },
    {
      "cell_type": "markdown",
      "metadata": {
        "id": "8vNe319OYQvw",
        "colab_type": "text"
      },
      "source": [
        "## Notes"
      ]
    },
    {
      "cell_type": "markdown",
      "metadata": {
        "id": "w1FcybABY3es",
        "colab_type": "text"
      },
      "source": [
        "### Comments\n",
        "\n",
        "Comments allow you to leave notes along with your code. These notes will help you when you return to your code later, as well as anyone else that looks at your code. Beginning a line using the `#` character is a comment. Comments are not executed and are ignored when running your program. Following Ruby style guidelines, it is good practice to enter a space following `#`."
      ]
    },
    {
      "cell_type": "markdown",
      "metadata": {
        "id": "B0U9fpTVY_s6",
        "colab_type": "text"
      },
      "source": [
        "#### Example"
      ]
    },
    {
      "cell_type": "code",
      "metadata": {
        "id": "K6hYdLjLZBqa",
        "colab_type": "code",
        "colab": {}
      },
      "source": [
        "# I'm a code comment. Python knows this is for people and not computers\n",
        "# Also, it is always taco time.\n",
        "taco_time = \"Always\"\n",
        "\n",
        "# This is a comment too.\n",
        "print(\"But this isn't.\")\n",
        "\n",
        "#This comment is not following good Python style practices because it does not have space after the #"
      ],
      "execution_count": null,
      "outputs": []
    },
    {
      "cell_type": "markdown",
      "metadata": {
        "id": "DZRvYeRXZwwY",
        "colab_type": "text"
      },
      "source": [
        "### Data types\n",
        "\n",
        "| Data Type | Description | Example |\n",
        "| :--- | :--- | :--- |\n",
        "| string / str | A collection of characters within single or double quotes | `\"hello\"`, `'hello'` |\n",
        "| integer / int | A number with no decimal | `1`, `0`, `-7` |\n",
        "| float | Real value (decimal) | `0.5` |\n",
        "| list | A collection of data of one or more types within square brackets | `[\"hello\", 0, 1.5]` |\n",
        "| dictionary | A set of key, value pairs | `{ A: 2, B: 3, C: 1}` |\n"
      ]
    },
    {
      "cell_type": "markdown",
      "metadata": {
        "id": "3iVHFv-CbwXl",
        "colab_type": "text"
      },
      "source": [
        "#### Determining the type\n",
        "\n",
        "To determine the type of an object you can use the function `type`. You can call the function `type` on a `literal` value such as the `int` `1` or `str` `\"hello\"`, or a variable that holds a value such as `x` or `word` as shown below. \n",
        "\n",
        "Run the code blocks to see example output from the function `type`."
      ]
    },
    {
      "cell_type": "code",
      "metadata": {
        "id": "2Dpwq1klb_ib",
        "colab_type": "code",
        "colab": {}
      },
      "source": [
        "print(type(1))"
      ],
      "execution_count": null,
      "outputs": []
    },
    {
      "cell_type": "code",
      "metadata": {
        "id": "6C8UAwNbc0Ke",
        "colab_type": "code",
        "colab": {}
      },
      "source": [
        "x = 1\n",
        "print(type(x))"
      ],
      "execution_count": null,
      "outputs": []
    },
    {
      "cell_type": "code",
      "metadata": {
        "id": "Q4PcrpRjdNwO",
        "colab_type": "code",
        "colab": {}
      },
      "source": [
        "print(type(\"hello\"))"
      ],
      "execution_count": null,
      "outputs": []
    },
    {
      "cell_type": "code",
      "metadata": {
        "id": "lEvyZDVMc35K",
        "colab_type": "code",
        "colab": {}
      },
      "source": [
        "word = \"hello\"\n",
        "print(type(word))"
      ],
      "execution_count": null,
      "outputs": []
    },
    {
      "cell_type": "markdown",
      "metadata": {
        "id": "Ce6gfJM7eBRf",
        "colab_type": "text"
      },
      "source": [
        "### Mathematical operations\n",
        "\n",
        "| Operation | Ruby symbol | Example |\n",
        "| :--- | :--- | :--- |\n",
        "| addition |  `+` | `2 + 3` |\n",
        "| subtraction | `-` | `4 - 5` |\n",
        "| multiplication | `*` | `7 * 8` |\n",
        "| division | `/` | `10 / 2` |\n",
        "| remainder (modulus) | `%` | `15 % 5` |"
      ]
    },
    {
      "cell_type": "markdown",
      "metadata": {
        "id": "5RwTuRvIeCp6",
        "colab_type": "text"
      },
      "source": [
        "#### Important notes\n",
        "\n",
        "* In some languages Integer division (division involving only integers) results in the decimal result being truncated/rounded. This is the case in Python Version 2, however in Python Version 3, Integer division can produce a `Float` as the quotient.\n",
        "* Modulus (or mod, for short) returns the remainder of dividing one number by another number. e.g. `15 % 10` will return `5`.\n",
        "\n",
        "*Run the code below to see a couple examples of mathematical operations.* \n",
        "\n",
        "Notice that the result is printed to the screen even though we did not use the `print` function. In `Colab`, the result from the last line of a code block is printed to the screen."
      ]
    },
    {
      "cell_type": "code",
      "metadata": {
        "id": "qh0TFAh-eMPN",
        "colab_type": "code",
        "colab": {}
      },
      "source": [
        "2/3"
      ],
      "execution_count": null,
      "outputs": []
    },
    {
      "cell_type": "code",
      "metadata": {
        "id": "TSkGVl6Rem1b",
        "colab_type": "code",
        "colab": {}
      },
      "source": [
        "10 % 3"
      ],
      "execution_count": null,
      "outputs": []
    },
    {
      "cell_type": "markdown",
      "metadata": {
        "id": "VPsKx8u6gFLr",
        "colab_type": "text"
      },
      "source": [
        "### Precedence\n",
        "\n",
        "Also commonly called order-of-operations, is the order in which operations are completed.\n",
        "\n",
        "| __Priority__ | __Operation__ |\n",
        "| :--- | :--- |\n",
        "| 1 | parens |\n",
        "| 2 | unary operations |\n",
        "| 3 | multiplication, division, modulus|\n",
        "| 4 | addition, subtraction, string concatenation |\n",
        "| 5 | less than, less than or equal to, greater than, greater than or equal to |\n",
        "| 6 | equal to, not equal to |\n",
        "| 7 | and |\n",
        "| 8 | or |"
      ]
    },
    {
      "cell_type": "markdown",
      "metadata": {
        "id": "Qcidv7FfgL2V",
        "colab_type": "text"
      },
      "source": [
        "### Assignment Statements\n",
        "\n",
        "In programming, we often need to save values. We may want to refer to the values later, or only have to do a calculation once. Variables have a name and a value. We assign a value to a variable using an assignment statement. Assignment statements are read from right-to-left, not from left-to-right. Use phrases like _assigns_, or _stores the value_, instead of _equals_, or _equal to_."
      ]
    },
    {
      "cell_type": "markdown",
      "metadata": {
        "id": "ymePs6OYgV4B",
        "colab_type": "text"
      },
      "source": [
        "#### Examples\n",
        "\n",
        "As you go through the examples below, read the comments to understand how to talk in programming terms. Before you run the code, make a guess at what will be printed to the screen.\n",
        "\n"
      ]
    },
    {
      "cell_type": "code",
      "metadata": {
        "id": "Jmy2wRM7gP4N",
        "colab_type": "code",
        "colab": {}
      },
      "source": [
        "# the value of 5 is assigned to the variable named x\n",
        "x = 5\n",
        "# the current value of x(5) is added with 1\n",
        "# that sum is then assigned to the variable named x\n",
        "x = x + 1\n",
        "\n",
        "print(\"x =\", x)"
      ],
      "execution_count": null,
      "outputs": []
    },
    {
      "cell_type": "code",
      "metadata": {
        "id": "TEY-R5oUgm_0",
        "colab_type": "code",
        "colab": {}
      },
      "source": [
        "# the value of 1 is assigned to the variable named x\n",
        "x = 1\n",
        "# the value stored in x is assigned to y\n",
        "# note: this does not mean that x and y will always\n",
        "# store the same value\n",
        "y = x\n",
        "# the value of 3 is assigned to the variable named x\n",
        "x = 3\n",
        "# note: y still holds the value of 1\n",
        "print(\"x =\", x)\n",
        "print(\"y =\", y)"
      ],
      "execution_count": null,
      "outputs": []
    },
    {
      "cell_type": "code",
      "metadata": {
        "id": "SVI5uXLVhKXM",
        "colab_type": "code",
        "colab": {
          "base_uri": "https://localhost:8080/",
          "height": 52
        },
        "outputId": "4b34c2f4-a572-4d4c-f8f8-7b7f98159356"
      },
      "source": [
        "# the value of \"Rosa\" is assigned to the variable named dog_name\n",
        "dog_name = \"Rosa\"\n",
        "# the value of \"Raquel\" is assigned to the variable named cat_name\n",
        "cat_name = \"Raquel\"\n",
        "# the value of 7 is assigned to the variable named dog_age\n",
        "dog_age  = 7\n",
        "# the value of 11 is assigned to the variable named cat_age\n",
        "cat_age  = 11\n",
        "\n",
        "print(\"The dog named\", dog_name, \"is\", dog_age, \"years old\")\n",
        "print(\"The cat named\", cat_name, \"is\", cat_age, \"years old\")"
      ],
      "execution_count": 29,
      "outputs": [
        {
          "output_type": "stream",
          "text": [
            "The dog named Rosa is 7 years old\n",
            "The cat named Raquel is 11 years old\n"
          ],
          "name": "stdout"
        }
      ]
    },
    {
      "cell_type": "markdown",
      "metadata": {
        "id": "orktS-YKhjN3",
        "colab_type": "text"
      },
      "source": [
        "### Compound assignment statements\n",
        "\n",
        "It is possible to perform an operation and assign a value all in the same step. To add and assign you can use `+=`, to subtract and assign you can use `-=`, to divide and assign you can use `/=` and to multiply and assign you can use `*=`."
      ]
    },
    {
      "cell_type": "markdown",
      "metadata": {
        "id": "APYzmNVehkLZ",
        "colab_type": "text"
      },
      "source": [
        "#### Examples\n",
        "\n",
        "* `x += 3`  assigns the value of `x + 3` to the variable `x`  \n",
        "* `x += y + 3` assigns the value of `x + (y + 3)` to the variable `x`  \n",
        "* `x -= 2`  assigns the value of `x – 2` to the variable `x`  \n",
        "* `x -= y – 5`  assigns the value of `x – (y – 5)` to the variable `x`  \n",
        "* `x /= 3`  assigns the value of `x / 3` to the variable `x`  \n",
        "* `x *= y`  assigns the value of `x * y` to the variable `x`  \n",
        "* `x %= y`  assigns the value of `x % y` to the variable `x`\n",
        "\n",
        "*Try some of these expressions in the code block below.* \n",
        "- Uncomment one expression by removing the `#` and run the code block to see the affect the operation has on x and/or y. \n",
        "- Recomment that expression by adding the `#` back and uncomment the next expression*\n",
        "- Continue until you've examined the affect of each operation."
      ]
    },
    {
      "cell_type": "code",
      "metadata": {
        "id": "WJNVdD8iXznY",
        "colab_type": "code",
        "colab": {}
      },
      "source": [
        "x = 2\n",
        "y = 5\n",
        "\n",
        "# x += 3 \n",
        "# x += y + 3\n",
        "# x -= 2\n",
        "# x -= y – 5\n",
        "# x /= 3\n",
        "# x *= y\n",
        "# x %= y\n",
        "\n",
        "print(\"x =\", x)\n",
        "print(\"y =\", y)"
      ],
      "execution_count": null,
      "outputs": []
    },
    {
      "cell_type": "markdown",
      "metadata": {
        "id": "5iC2LMQyYv6e",
        "colab_type": "text"
      },
      "source": [
        "# Exercises\n"
      ]
    }
  ]
}