{
  "nbformat": 4,
  "nbformat_minor": 0,
  "metadata": {
    "colab": {
      "name": "06_lists.ipynb",
      "provenance": [],
      "private_outputs": true,
      "collapsed_sections": [],
      "include_colab_link": true
    },
    "kernelspec": {
      "name": "python3",
      "display_name": "Python 3"
    }
  },
  "cells": [
    {
      "cell_type": "markdown",
      "metadata": {
        "id": "view-in-github",
        "colab_type": "text"
      },
      "source": [
        "<a href=\"https://colab.research.google.com/github/Ada-Developers-Academy/ada-build/blob/master/intro-to-python/06_lists.ipynb\" target=\"_parent\"><img src=\"https://colab.research.google.com/assets/colab-badge.svg\" alt=\"Open In Colab\"/></a>"
      ]
    },
    {
      "cell_type": "markdown",
      "metadata": {
        "id": "d_qCNQtGk30o",
        "colab_type": "text"
      },
      "source": [
        "# Lists\n",
        "\n",
        "_Ada Build - Intro to Python - Lesson 6_"
      ]
    },
    {
      "cell_type": "markdown",
      "metadata": {
        "id": "KjqmyX3hlI_h",
        "colab_type": "text"
      },
      "source": [
        "# Learning Goals\n",
        "\n",
        "By the end of this lesson we should be able to:\n",
        "* Define the following terms: \n",
        "    * data structure \n",
        "    * list\n",
        "    * index\n",
        "    * value\n",
        "* Understand what a data structure is\n",
        "* Create a new list\n",
        "* Access data within a list\n",
        "* Add data to a list\n",
        "* Loop through data within a list"
      ]
    },
    {
      "cell_type": "markdown",
      "metadata": {
        "id": "-LuHG9y6ltDg",
        "colab_type": "text"
      },
      "source": [
        "# Notes"
      ]
    },
    {
      "cell_type": "markdown",
      "metadata": {
        "id": "KSztR9nG4AVI",
        "colab_type": "text"
      },
      "source": [
        "## Copy to Drive\n",
        "\n",
        "Before you get started, remember to make copy this colab notebook to your Google Drive so that you can save you work."
      ]
    },
    {
      "cell_type": "markdown",
      "metadata": {
        "id": "7fZ3_RBmluGJ",
        "colab_type": "text"
      },
      "source": [
        "## Overview\n",
        "\n",
        "Lists are the most common data type used to create collections in Python.\n",
        "\n",
        "A [`list`](https://docs.python.org/3/tutorial/introduction.html#lists) is an _ordered_ collection of objects enclosed by square brackets `[]`.\n",
        "\n",
        "List Example:\n",
        "```python\n",
        "[1, 10, 33, 50, 2, 7]\n",
        "```"
      ]
    },
    {
      "cell_type": "markdown",
      "metadata": {
        "id": "sz-NLMcymVZQ",
        "colab_type": "text"
      },
      "source": [
        "## Creating Lists\n",
        "\n",
        "We can create lists that start out empty, or lists with an initial set of values. Regardless of whether our new list will start with any data, there are two different ways we can create it.\n",
        "\n"
      ]
    },
    {
      "cell_type": "markdown",
      "metadata": {
        "id": "pBifTlR8n2Fw",
        "colab_type": "text"
      },
      "source": [
        "### Empty\n",
        "\n",
        "In the first way, we initialize an _empty_ `List` by using `[]`. A list can be assigned to a variable like any other data type:\n",
        "\n",
        "```python\n",
        "my_list = []\n",
        "```\n",
        "\n",
        "We know that this list is empty because the list definition starts with a _left square bracket_ `[` and ends with a _right square bracket_ `]` and there is nothing between those two symbols.\n",
        "\n",
        "For the second method, we explicitly create a new new _empty_ list by using the `list` class name as a function which returns a new `list` instance, calling it with no arguments.\n",
        "\n",
        "```python\n",
        "my_list = list()\n",
        "```\n",
        "\n",
        "Run the code cells below to see the empty lists.\n"
      ]
    },
    {
      "cell_type": "code",
      "metadata": {
        "id": "MqItSGcvoDMV",
        "colab_type": "code",
        "colab": {}
      },
      "source": [
        "my_list = []\n",
        "my_list"
      ],
      "execution_count": null,
      "outputs": []
    },
    {
      "cell_type": "code",
      "metadata": {
        "id": "5-eF7_XVoPnp",
        "colab_type": "code",
        "colab": {}
      },
      "source": [
        "my_list = list()\n",
        "my_list"
      ],
      "execution_count": null,
      "outputs": []
    },
    {
      "cell_type": "markdown",
      "metadata": {
        "id": "kbjypfmGoZFE",
        "colab_type": "text"
      },
      "source": [
        "### With Data\n",
        "\n",
        "We can utilize the square bracket syntax to initialize a new `list` _with data_.\n",
        "\n",
        "Run the code cells below to see lists with data.\n"
      ]
    },
    {
      "cell_type": "code",
      "metadata": {
        "id": "drsjY4PipVqo",
        "colab_type": "code",
        "colab": {}
      },
      "source": [
        "numbers = [1, 2, 3, 4]\n",
        "numbers"
      ],
      "execution_count": null,
      "outputs": []
    },
    {
      "cell_type": "code",
      "metadata": {
        "id": "YP20dzrCpe9h",
        "colab_type": "code",
        "colab": {}
      },
      "source": [
        "words = [\"apple\", \"hello\", \"ada\"]\n",
        "words "
      ],
      "execution_count": null,
      "outputs": []
    },
    {
      "cell_type": "code",
      "metadata": {
        "id": "rWAlxFuUpk4T",
        "colab_type": "code",
        "colab": {}
      },
      "source": [
        "numbers_and_words = [1, \"ada\", 1.5]\n",
        "numbers_and_words"
      ],
      "execution_count": null,
      "outputs": []
    },
    {
      "cell_type": "markdown",
      "metadata": {
        "id": "1A_djvWEmeG0",
        "colab_type": "text"
      },
      "source": [
        "We can also utilize the `list` function to create a list with data.\n",
        "\n",
        "Run the code cells below to see lists created by using `list` with different arguments."
      ]
    },
    {
      "cell_type": "code",
      "metadata": {
        "id": "mVA_N7x9qTMp",
        "colab_type": "code",
        "colab": {}
      },
      "source": [
        "numbers = list(range(1,5))\n",
        "numbers"
      ],
      "execution_count": null,
      "outputs": []
    },
    {
      "cell_type": "code",
      "metadata": {
        "id": "Lsyw-awJlsQv",
        "colab_type": "code",
        "colab": {}
      },
      "source": [
        "banana_list = list(\"banana\")\n",
        "banana_list"
      ],
      "execution_count": null,
      "outputs": []
    },
    {
      "cell_type": "markdown",
      "metadata": {
        "id": "0xHq9qtXvh0a",
        "colab_type": "text"
      },
      "source": [
        "### Data Types\n",
        "\n",
        "Note that Python lists can store all sorts of data, including but not limited to integers, floats, and strings. Additionally, it's not a requirement that all items stored in a list be of the same type (i.e. we can create a list with a string as the first element, an integer as the second element, and so on). That being said, we should only mix types in a list after carefully considering our alternatives, as mixed-type lists can make our code more difficult to understand."
      ]
    },
    {
      "cell_type": "markdown",
      "metadata": {
        "id": "YrKxIuvbqb0T",
        "colab_type": "text"
      },
      "source": [
        "### Exercise: Creating Lists\n",
        "\n",
        "Create the following lists in the code cell below using both the square brackets `[]` and `list(arguments)` methods.\n",
        "\n",
        "Assign the lists to variables `list1`, `list2`, etc.\n",
        "\n",
        "1. `[5, 6, 7, 8, 9, 10]`\n",
        "2. `[]`\n",
        "3. `[\"a\", \"b\", \"c\"]`\n",
        "4. `[\"ada\", \"lovelace\", 1]`"
      ]
    },
    {
      "cell_type": "code",
      "metadata": {
        "id": "EFdf5F8fuMIp",
        "colab_type": "code",
        "colab": {}
      },
      "source": [
        "# replace ... with appropriate list using []\n",
        "list1 = ...\n",
        "list2 = ...\n",
        "list3 = ...\n",
        "list4 = ...\n",
        "\n",
        "print(list1)\n",
        "print(list2)\n",
        "print(list3)\n",
        "print(list4)\n",
        "\n",
        "# replace ... with appropriate list using list()\n",
        "list1 = ...\n",
        "list2 = ...\n",
        "list3 = ...\n",
        "list4 = ...\n",
        "\n",
        "print(list1)\n",
        "print(list2)\n",
        "print(list3)\n",
        "print(list4)"
      ],
      "execution_count": null,
      "outputs": []
    },
    {
      "cell_type": "markdown",
      "metadata": {
        "id": "ImcjQHn1rrbI",
        "colab_type": "text"
      },
      "source": [
        "## Indices\n",
        "\n",
        "We previously encountered the concept of indices and indexing in our discussion of strings. We can index into a `list` using square brackets `[]` to retrieve a value, just as we can index into a `string` with square brackets `[]` to retrieve a character.\n",
        "\n",
        "Again, like strings, we index the values in a `list` starting at _zero_. If this still feels a little strange, that's ok. It can help to think of the index as saying how far away from the start of the list a value is stored. The first value in a `list` is stored right at the beginning of the list, so it is 0 items away from the front. The second value is then 1 item away from the front, and so on. Don't worry. This will feel completely natural after programming for a while!\n",
        "\n"
      ]
    },
    {
      "cell_type": "markdown",
      "metadata": {
        "id": "xKti649pEHvs",
        "colab_type": "text"
      },
      "source": [
        "### Slicing and Negative Indices\n",
        "\n",
        "Slicing with lists is very similar to slicing with strings. To take a slice of a list, we can pass one, two, or three values.\n",
        "\n",
        "`list[i]` &mdash; gets a single element.\n",
        "\n",
        "`list[i:j]` &mdash; gets a list of elements from index `i` up to but not including index `j`.\n",
        "\n",
        "`list[i:j:k]` &mdash; gets a list of elements from index `i` up to but not including index `j`, stepping by the interval `k`.\n",
        "\n",
        "In all three styles of use, if you provide an index greater than the length of the list, an `IndexError` will occur.\n",
        "\n",
        "Python lists also support negative indexing. Index `-1` is the last element in the list, index `-2` is the second to last element in the list, and so on."
      ]
    },
    {
      "cell_type": "markdown",
      "metadata": {
        "id": "E8Vu86yCsRIu",
        "colab_type": "text"
      },
      "source": [
        "### Exercise\n",
        "\n",
        "Read the code cells below and predict the ouput. Run each code cell to check your answers."
      ]
    },
    {
      "cell_type": "code",
      "metadata": {
        "id": "ZvO5ssKxsA1y",
        "colab_type": "code",
        "colab": {}
      },
      "source": [
        "# exercise 1\n",
        "numbers = [1, 10, 33, 50, 2, 7]\n",
        "print(numbers[0]) \n",
        "print(numbers[1]) \n",
        "print(numbers[2]) \n",
        "print(numbers[3]) \n",
        "print(numbers[4]) \n",
        "print(numbers[5]) \n",
        "print(numbers[6]) "
      ],
      "execution_count": null,
      "outputs": []
    },
    {
      "cell_type": "markdown",
      "metadata": {
        "id": "40eq24mFsLMg",
        "colab_type": "text"
      },
      "source": [
        "The table below maps the data to their corresponding indices in the `numbers` list. \n",
        "\n",
        "Examine the table, and use your observations to explain the behavior of the previous code cell.\n",
        "\n",
        "| Index | `0` | `1` | `2` | `3` | `4` | `5` |\n",
        "| :---- | :-- | :-- | :-- | :-- | :-- | :-- |\n",
        "| Value | 1 | 10 | 33 | 50 | 2 | 7 |\n",
        "\n"
      ]
    },
    {
      "cell_type": "code",
      "metadata": {
        "id": "Q8iHpdo8sqGj",
        "colab_type": "code",
        "colab": {}
      },
      "source": [
        "# exercise 2\n",
        "numbers = [1, 2, 3, 4]\n",
        "print(numbers[2])\n",
        "print(numbers[1:3])\n",
        "print(numbers[-1])\n",
        "print(numbers[0:3:2])\n",
        "\n",
        "# exercise 3\n",
        "empty_list = [None, None, None]\n",
        "print(empty_list)\n"
      ],
      "execution_count": null,
      "outputs": []
    },
    {
      "cell_type": "markdown",
      "metadata": {
        "id": "TwsuYhP8st6O",
        "colab_type": "text"
      },
      "source": [
        "The tables below might be helpful when analyzing the remaining exercises.\n",
        "\n",
        "\n",
        "_numbers_\n",
        "\n",
        "| Value |  1  |  2 |  3 |  4 |\n",
        "| :---- | :-- | :-- | :-- | :-- |\n",
        "| Index | [0] | [1] | [2] | [3] |\n",
        "\n",
        "_empty_list_\n",
        "\n",
        "| Value |  None  |  None |  None |\n",
        "| :---- | :-- | :-- | :-- |\n",
        "| Index | [0] | [1] | [2] |\n"
      ]
    },
    {
      "cell_type": "markdown",
      "metadata": {
        "id": "hLMOFaKJhk-3",
        "colab_type": "text"
      },
      "source": [
        "#### List Replication\n",
        "\n",
        "Examine the code below.  Does it look similar to anything you learned about Strings?  Predict the output, and then modify exercise 4 to create a list of 100s."
      ]
    },
    {
      "cell_type": "code",
      "metadata": {
        "id": "roPuEwKfhjd6",
        "colab_type": "code",
        "colab": {}
      },
      "source": [
        "# exercise 4\n",
        "zeros = [0] * 5\n",
        "print(zeros[2])"
      ],
      "execution_count": null,
      "outputs": []
    },
    {
      "cell_type": "markdown",
      "metadata": {
        "id": "LzsGkVUVh8J4",
        "colab_type": "text"
      },
      "source": [
        "\n",
        "The exercise above creates an array _zeros_ which looks like the below.\n",
        "\n",
        "_zeros_\n",
        "\n",
        "| Value |  0  |  0 |  0 | 0 |  0 |\n",
        "| :---- | :-- | :-- | :-- | :-- | :-- |\n",
        "| Index | [0] | [1] | [2] | [3] | [4] |\n",
        "\n",
        "How did `zeros` end up with 5 values? Do you remember string replication? We encountered it briefly in lesson 02. Recall that a string followed by what looks like integer multiplication will replicate and join the string as many times as the multiplication value, here treated as the replication count."
      ]
    },
    {
      "cell_type": "code",
      "metadata": {
        "id": "nrPbvE8Zihpy",
        "colab_type": "code",
        "colab": {}
      },
      "source": [
        "s = \"abc\" * 5 # repeat \"abc\" 5 times\n",
        "# s gets \"abcabcabcabcabc\"\n",
        "\n",
        "\n",
        "# Lists support the same replication syntax, with the following result:\n",
        "\n",
        "zeros = [0] * 5 # repeat [0] 5 times\n",
        "# zeros gets [0, 0, 0, 0, 0]"
      ],
      "execution_count": null,
      "outputs": []
    },
    {
      "cell_type": "markdown",
      "metadata": {
        "id": "egFv1w9mvwwV",
        "colab_type": "text"
      },
      "source": [
        "## Data Assignment\n",
        "\n",
        "Lists allow us to assign and reassign their values.\n",
        "\n",
        "Each location in the list acts like its own variable. We can use list indexing to see what object is referenced at a particular location. We can also update a particular location to refer to a different object, again using list indexing."
      ]
    },
    {
      "cell_type": "markdown",
      "metadata": {
        "id": "B0pIgdqvNTC5",
        "colab_type": "text"
      },
      "source": [
        "### Exercise\n",
        "\n",
        "Read the code cells below and make a prediction about the output. Run the cells to check your answers."
      ]
    },
    {
      "cell_type": "code",
      "metadata": {
        "id": "IBLz3yRaNJLd",
        "colab_type": "code",
        "colab": {}
      },
      "source": [
        "animals = [\"bird\", \"horse\", \"cat\", \"monkey\"]\n",
        "animals"
      ],
      "execution_count": null,
      "outputs": []
    },
    {
      "cell_type": "code",
      "metadata": {
        "id": "5844jbE0NLtc",
        "colab_type": "code",
        "colab": {}
      },
      "source": [
        "animals[0]"
      ],
      "execution_count": null,
      "outputs": []
    },
    {
      "cell_type": "code",
      "metadata": {
        "id": "k3hDWjnBNOSX",
        "colab_type": "code",
        "colab": {}
      },
      "source": [
        "animals[0] = \"parrot\"\n",
        "animals[0]"
      ],
      "execution_count": null,
      "outputs": []
    },
    {
      "cell_type": "code",
      "metadata": {
        "id": "VjtoMPjDNQSJ",
        "colab_type": "code",
        "colab": {}
      },
      "source": [
        "animals"
      ],
      "execution_count": null,
      "outputs": []
    },
    {
      "cell_type": "markdown",
      "metadata": {
        "id": "6gy2Wwetv0mO",
        "colab_type": "text"
      },
      "source": [
        "## Using Built-In Methods\n",
        "\n",
        "List is a built-in class available in Python. Lists have [many built-in functions and methods](https://docs.python.org/3/tutorial/datastructures.html?highlight=lists#more-on-lists) that we commonly utilize. We will introduce the function `len` and method `append` now.\n",
        "\n",
        "Recall that functions are invoked with the syntax `function_name(arguments)` and methods are invoked with the syntax.\n",
        "\n",
        "`object.method_name(arguments)`.\n",
        "\n",
        "Remember that method is what we call a function associated with a specific instance of a class.\n"
      ]
    },
    {
      "cell_type": "markdown",
      "metadata": {
        "id": "wmjVbQvWQk_j",
        "colab_type": "text"
      },
      "source": [
        "### Exercise\n",
        "\n",
        "Read the code cells below and make a prediction about the output. Run the cells to check your answers."
      ]
    },
    {
      "cell_type": "markdown",
      "metadata": {
        "id": "3Jz1L0WGN4fe",
        "colab_type": "text"
      },
      "source": [
        "#### `len`\n",
        "\n",
        "This function returns the number of elements in the list."
      ]
    },
    {
      "cell_type": "code",
      "metadata": {
        "id": "aEb9ojwHN_OF",
        "colab_type": "code",
        "colab": {}
      },
      "source": [
        "animals = [\"bird\", \"horse\", \"cat\", \"monkey\"]\n",
        "len(animals)"
      ],
      "execution_count": null,
      "outputs": []
    },
    {
      "cell_type": "markdown",
      "metadata": {
        "id": "3a1I-GrIPxxn",
        "colab_type": "text"
      },
      "source": [
        "#### `append`\n",
        "\n",
        "This methods appends a given object to the end of a list."
      ]
    },
    {
      "cell_type": "code",
      "metadata": {
        "id": "Wc4QPbFeQYNX",
        "colab_type": "code",
        "colab": {}
      },
      "source": [
        "animals = [\"bird\", \"horse\", \"cat\", \"monkey\"]\n",
        "animals.append(\"dog\")\n",
        "print(animals) \n",
        "print(len(animals))\n",
        "print(animals[4])"
      ],
      "execution_count": null,
      "outputs": []
    },
    {
      "cell_type": "markdown",
      "metadata": {
        "id": "_iGJNdz3v28L",
        "colab_type": "text"
      },
      "source": [
        "## Looping over a list\n",
        "\n",
        "Earlier, in the lesson on iterators, we looked at how different iterators and loops work. Now, let's take a closer look at how loops or iterators work together with lists."
      ]
    },
    {
      "cell_type": "markdown",
      "metadata": {
        "id": "1fqtXiWIE4dc",
        "colab_type": "text"
      },
      "source": [
        "### `for` loops and `range`\n",
        "\n",
        "Recall the `for` loop with the `range` function from the previous lesson.\n",
        "\n",
        "We can leverage the fact that the `range` function begins counting at `0`, and that the index of the first element in a list is also `0`. Combining this knowledge and utilizing the built-in function `len` to get the count of elements in a list, we can retrieve the value of each element in a list like so:"
      ]
    },
    {
      "cell_type": "code",
      "metadata": {
        "id": "lIDy8ixuFES6",
        "colab_type": "code",
        "colab": {}
      },
      "source": [
        "# Example 1\n",
        "# A list of veggies\n",
        "veggies = [\"carrot\", \"yam\", \"zucchini\", \"spinach\"]\n",
        "veggie_count = len(veggies)\n",
        "# veggie_count gets 4\n",
        "\n",
        "for i in range(veggie_count):\n",
        "    print(f\"Vegetable {i+1}: {veggies[i]}\")\n"
      ],
      "execution_count": null,
      "outputs": []
    },
    {
      "cell_type": "markdown",
      "metadata": {
        "id": "2LJLXmbKFloM",
        "colab_type": "text"
      },
      "source": [
        "n the example below, rather than storing the length of the `names` list in a separate variable, we use `len` directly in the call to `range`. `len(names)` just evaluates to `5`, and `5` becomes the argument to `range`.\n",
        "\n",
        "Then in the body of the `for` loop, `i` takes on each value from the output of `range`, and we use it as an index to retrieve the value of the element in the `names` list at that index."
      ]
    },
    {
      "cell_type": "code",
      "metadata": {
        "id": "dic8T7ZHFuhI",
        "colab_type": "code",
        "colab": {}
      },
      "source": [
        "# Example 2\n",
        "# A list of names\n",
        "names = [\"Usagi\", \"Rei\", \"Ami\", \"Makoto\", \"Minako\"]\n",
        "\n",
        "# There's no need to store len(names) in another variable!\n",
        "for i in range(len(names)):\n",
        "    print(f\"Hello {names[i]}!\")\n"
      ],
      "execution_count": null,
      "outputs": []
    },
    {
      "cell_type": "markdown",
      "metadata": {
        "id": "0tRz2u1JGMXL",
        "colab_type": "text"
      },
      "source": [
        "#### Exercise\n",
        "\n",
        "In the code cell below, write a for loop that prints out `\"I love vegetable_name\"` using the vegetable list from Example 1."
      ]
    },
    {
      "cell_type": "code",
      "metadata": {
        "id": "PELSnkIqGgu0",
        "colab_type": "code",
        "colab": {}
      },
      "source": [
        "veggies = [\"carrot\", \"yam\", \"zucchini\", \"spinach\"]\n",
        "\n",
        "# your code goes here"
      ],
      "execution_count": null,
      "outputs": []
    },
    {
      "cell_type": "markdown",
      "metadata": {
        "id": "CCt8pSMBUU4N",
        "colab_type": "text"
      },
      "source": [
        "### `for` directly on a list\n",
        "\n",
        "In the previous section, we looked at how we can combine `for` loops with `len` and `range` to iterate over the items in a list. Python also lets us use a `for` loop to directly retrieve each item from lists and other collections. This is commonly called a `for-each` loop in other programming languages.\n",
        "\n",
        "In the example below, the `for` loop will iterate over the `veggies` list. For each iteration, the `vegetable` variable will be assigned the value of the next element in the list, starting with the first."
      ]
    },
    {
      "cell_type": "code",
      "metadata": {
        "id": "dKNmP_BsG64V",
        "colab_type": "code",
        "colab": {}
      },
      "source": [
        "# Example 3\n",
        "# A list of veggies\n",
        "veggies = [\"carrot\", \"yam\", \"zucchini\", \"spinach\"]\n",
        "\n",
        "for vegetable in veggies:\n",
        "  print(f\"a vegetable: {vegetable}\")\n"
      ],
      "execution_count": null,
      "outputs": []
    },
    {
      "cell_type": "markdown",
      "metadata": {
        "id": "CuOoTXdUHSR5",
        "colab_type": "text"
      },
      "source": [
        "In the example below, the for loop iterates over the `names` list. For each iteration, the `name` variable will be assigned to the value of the next element in the list, starting with the first. The loop block executes for each `name`, which says hello to each person!\n"
      ]
    },
    {
      "cell_type": "code",
      "metadata": {
        "id": "9dUsOmJaHTtL",
        "colab_type": "code",
        "colab": {}
      },
      "source": [
        "# Example 4\n",
        "# A list of names\n",
        "names = [\"Usagi\", \"Rei\", \"Ami\", \"Makoto\", \"Minako\"]\n",
        "\n",
        "for name in names:\n",
        "    print(f\"Hello {name}!\")\n"
      ],
      "execution_count": null,
      "outputs": []
    },
    {
      "cell_type": "markdown",
      "metadata": {
        "id": "amOH4OP-HpjX",
        "colab_type": "text"
      },
      "source": [
        "# Exercise\n",
        "\n",
        "In the code cell below, write a `for` loop that operates directly on a list and prints out `\"I love vegetable_name\"` using the vegetable list from Example 1."
      ]
    },
    {
      "cell_type": "code",
      "metadata": {
        "id": "grK3rcCWH7KB",
        "colab_type": "code",
        "colab": {}
      },
      "source": [
        "veggies = [\"carrot\", \"yam\", \"zucchini\", \"spinach\"]\n",
        "\n",
        "# your code goes here"
      ],
      "execution_count": null,
      "outputs": []
    },
    {
      "cell_type": "markdown",
      "metadata": {
        "id": "3OLx5iHHRqRh",
        "colab_type": "text"
      },
      "source": [
        "## Index Errors\n",
        "\n",
        "A common error that we encounter when working with lists is an `IndexError`."
      ]
    },
    {
      "cell_type": "markdown",
      "metadata": {
        "id": "hXGNRolFSI7Z",
        "colab_type": "text"
      },
      "source": [
        "### Debugging `IndexError`<small>s</small>\n",
        "\n",
        "Run the code cells below and read the error messages. Try to fix each error."
      ]
    },
    {
      "cell_type": "code",
      "metadata": {
        "id": "eLgbulEQznIs",
        "colab_type": "code",
        "colab": {}
      },
      "source": [
        "# code block 1\n",
        "falcon = [\"Solo\"]\n",
        "\n",
        "# Access \"Solo\"\n",
        "falcon[1]"
      ],
      "execution_count": null,
      "outputs": []
    },
    {
      "cell_type": "code",
      "metadata": {
        "id": "3oz0NmJKzVaZ",
        "colab_type": "code",
        "colab": {}
      },
      "source": [
        "# code block 2\n",
        "names = [\"Usagi\", \"Rei\", \"Ami\", \"Makoto\", \"Minako\"]\n",
        "\n",
        "# Access the 5th name!\n",
        "names[5]"
      ],
      "execution_count": null,
      "outputs": []
    },
    {
      "cell_type": "markdown",
      "metadata": {
        "id": "YyApo1d40a_b",
        "colab_type": "text"
      },
      "source": [
        "#### Solutions"
      ]
    },
    {
      "cell_type": "markdown",
      "metadata": {
        "id": "z-t-MP7I0cDq",
        "colab_type": "text"
      },
      "source": [
        "**Code Block 1**\n",
        "\n",
        "The `IndexError` message is a little less helpful than previous error messages.  We still see the relevant line that caused the issue but only get told: `list index out of range`.\n",
        "\n",
        "![error from code block 1](https://drive.google.com/uc?id=1mzVIoS_4AcJmIKa22_i0xsRI92-1O-Ov)\n",
        "\n",
        "\n",
        "The error here is that the first element of the list is 0, not 1."
      ]
    },
    {
      "cell_type": "markdown",
      "metadata": {
        "id": "tx0XjN1H2f7q",
        "colab_type": "text"
      },
      "source": [
        "**Code Block 2**\n",
        "\n",
        "Like above, the error here isn't super helpful beyond knowing it's an `IndexError`.\n",
        "\n",
        "![error from code block 2](https://drive.google.com/uc?id=1XElHmKFiSWqSHT8u_GnxaYZaTSiO-zvx)\n",
        "\n",
        "Each error here is that we didn't start counting from 0.  When we want to access the 5th element in a list we need to use `names[4]` instead of `names[5]`."
      ]
    },
    {
      "cell_type": "markdown",
      "metadata": {
        "id": "W6hkbXeSwDjS",
        "colab_type": "text"
      },
      "source": [
        "# Practice Problems\n",
        "\n",
        "Read the code in each section, then write exactly what the code prints out. Use the code cell below to check your answers."
      ]
    },
    {
      "cell_type": "markdown",
      "metadata": {
        "id": "upTMkHkzSfH_",
        "colab_type": "text"
      },
      "source": [
        "## 1. Indexing and Appending Lists"
      ]
    },
    {
      "cell_type": "code",
      "metadata": {
        "id": "6wHNvmUesJAi",
        "colab_type": "code",
        "colab": {}
      },
      "source": [
        ""
      ],
      "execution_count": null,
      "outputs": []
    },
    {
      "cell_type": "markdown",
      "metadata": {
        "id": "C4E9NzO3sMYF",
        "colab_type": "text"
      },
      "source": [
        "\n",
        "```python\n",
        "# problem 1.1\n",
        "random_data = [\"b\", \"a\", 1, 3, 99, \"c\"]\n",
        "print(random_data[4])\n",
        "print(random_data[2] + 10)\n",
        "print(random_data[1] + random_data[0])\n",
        "```\n",
        "\n",
        "```python\n",
        "# problem 1.2\n",
        "numeric_data = []\n",
        "numeric_data.append(2)\n",
        "numeric_data.append(4)\n",
        "numeric_data.append(6)\n",
        "numeric_data.append(8)\n",
        "\n",
        "print(len(numeric_data))\n",
        "print(numeric_data[1])\n",
        "```\n",
        "\n",
        "```python\n",
        "#problem 1.3\n",
        "my_list = [\"dog\", 5, \"cat\", 2, \"horse\", 1]\n",
        "print(my_list[6])\n",
        "print(my_list[-1])\n",
        "```"
      ]
    },
    {
      "cell_type": "markdown",
      "metadata": {
        "id": "epfkIYSgr-c9",
        "colab_type": "text"
      },
      "source": [
        "## 2. Looping over a list"
      ]
    },
    {
      "cell_type": "code",
      "metadata": {
        "id": "v5DbRLbuUFaF",
        "colab_type": "code",
        "colab": {}
      },
      "source": [
        ""
      ],
      "execution_count": null,
      "outputs": []
    },
    {
      "cell_type": "markdown",
      "metadata": {
        "id": "pKoCF4z1UIK9",
        "colab_type": "text"
      },
      "source": [
        "```python\n",
        "# problem 2.1\n",
        "cars = [\"old\", \"new\", \"used\"]\n",
        "for car in cars:\n",
        "    print(car)\n",
        "```\n",
        "\n",
        "```python\n",
        "# problem 2.2\n",
        "fruits = [\"banana\", \"apple\", \"kiwi\"]\n",
        "for fruit in fruits:\n",
        "    print(f\"I love {fruit}!\")\n",
        "```\n",
        "\n",
        "```python\n",
        "# problem 2.3\n",
        "values = [8, 5, 3, 10, 14, 2]\n",
        "for value in values:\n",
        "    print(value)\n",
        "```\n",
        "\n",
        "```python\n",
        "# problem 2.4\n",
        "total = 0\n",
        "values = [4, 6, 2, 8, 11]\n",
        "\n",
        "for value in values:\n",
        "    total += value\n",
        "\n",
        "print(total)\n",
        "```\n",
        "\n",
        "```python\n",
        "# problem 2.5\n",
        "values = [8, 5, 3, 10, 14, 2]\n",
        "for value in values:\n",
        "  if value == 10:\n",
        "    print(\"Special case!\")\n",
        "  else:\n",
        "    print(f\"Regular values like {value}\")\n",
        "```\n",
        "\n"
      ]
    },
    {
      "cell_type": "markdown",
      "metadata": {
        "id": "liJCNcpGt5iJ",
        "colab_type": "text"
      },
      "source": [
        "# Project: Account Generator\n",
        "\n",
        "Let's write a program that generates some simulated student information. This exercise will practice our skills with strings, random numbers, lists, and iterators."
      ]
    },
    {
      "cell_type": "markdown",
      "metadata": {
        "id": "153U2rskBqwt",
        "colab_type": "text"
      },
      "source": [
        "## Requirements\n",
        "\n",
        "1. You will start by creating three lists:\n",
        "  * A list that will contain student names.\n",
        "  * A list that will contain student id numbers.\n",
        "  * A list that will contain student email addresses.\n",
        "  \n",
        "  **Note:** Make sure to name your variables appropriately so that it is easy to deduce the information stored in each list and that this information is not singular. e.g.\n",
        "`flowers = [\"lily\", \"rose\", \"gardenia\", \"daisy\"]` vs. `flower = \"tulip\"`.\n",
        "\n",
        "2. Make a list that contains five student names (first and last).\n",
        "\n",
        "  Example output:\n",
        "\n",
        "| Value |  \"ROSIE MARTINEZ\"  |  \"JOE LIU\" |  \"SALLY SUE\" |  \"BOB JOHNSON\" | \"DELIA AGHO\"   |\n",
        "| :---- | :-- | :-- | :-- | :-- | :-- |\n",
        "| Index | [0] | [1] | [2] | [3] | [4] |\n",
        "\n",
        "3. Write a loop to generate random student ID numbers from 111111 to 999999 and store those values in the student ID number list.\n",
        "\n",
        "  Example output:\n",
        "\n",
        "| Value |  123256  |  349222 | 999999 | 111112 | 726488   |\n",
        "| :---- | :-- | :-- | :-- | :-- | :-- |\n",
        "| Index | [0] | [1] | [2] | [3] | [4] |\n",
        "\n",
        "4. Write a loop to generate student email addresses in the format: (first inital)+(last name)+(last 3 digits of student ID number)@example.org and put these values in the student email list.\n",
        "\n",
        "  Example output:\n",
        "\n",
        "| Value |  \"RMARTINEZ256@example.org\"  |  \"JLIU222@example.org\" |  \"SSUE999@example.org\" |  \"BJOHNSON112@example.org\" | \"DAGHO488@example.org\"   |\n",
        "  | :---- | :-- | :-- | :-- | :-- | :-- |\n",
        "  | Index | [0] | [1] | [2] | [3] | [4] |\n",
        "\n",
        "5. Write the code which will print out all the student names, ID numbers, and email addresses in parallel."
      ]
    },
    {
      "cell_type": "code",
      "metadata": {
        "id": "wctsd4lxiO0g",
        "colab_type": "code",
        "colab": {}
      },
      "source": [
        "# your code goes here"
      ],
      "execution_count": null,
      "outputs": []
    },
    {
      "cell_type": "markdown",
      "metadata": {
        "id": "A7jt-Ktif80Y",
        "colab_type": "text"
      },
      "source": [
        "[A solution is linked here](https://repl.it/@BeccaElenzil/account-generator-v1)."
      ]
    },
    {
      "cell_type": "markdown",
      "metadata": {
        "id": "VwCkdkoZBu2N",
        "colab_type": "text"
      },
      "source": [
        "## Optional Enhancements\n",
        "\n",
        "* write a loop for requirement 2 that prompts the user for 5 names rather than hard coding the data.\n",
        "* make sure none of the IDs are duplicates.\n",
        "* account for ID numbers whose last 3 digits are less than 100 (e.g. 111008) because these ID numbers will generate an email address with less than 3 digits at the end without special cases.\n",
        "* on email generation, account for first names with a space in them  \n",
        "  e.g. if the first name is \"Mary Jane\", then the first initial should be \"MJ\" rather than just \"M\".\n",
        "* read in the student names from a file and make the list size according to the number of names."
      ]
    },
    {
      "cell_type": "markdown",
      "metadata": {
        "id": "pu2eYdUYwFzY",
        "colab_type": "text"
      },
      "source": [
        "# Project: Rock, Paper, Scissors - Version 4\n",
        "\n",
        "Alter the `choose_rps` function from the _Rock, Paper, Scissors: Version 3_ code to make use of lists to randomly select `'rock'`, `paper`, or `scissors`. \n",
        "\n",
        "Here is a link to [our solution](https://repl.it/@BeccaElenzil/RPS-v3-1#main.py) for Version 3."
      ]
    },
    {
      "cell_type": "code",
      "metadata": {
        "id": "q0KeHq6nUtlJ",
        "colab_type": "code",
        "colab": {}
      },
      "source": [
        "def choose_rps():\n",
        "    # complete rock, paper, scissors project - v4 in this code cell"
      ],
      "execution_count": null,
      "outputs": []
    },
    {
      "cell_type": "markdown",
      "metadata": {
        "id": "G1umUMXuU0Xy",
        "colab_type": "text"
      },
      "source": [
        "[A solution is linked here](https://repl.it/@BeccaElenzil/Rock-Paper-Scissors-v4#main.py)."
      ]
    }
  ]
}