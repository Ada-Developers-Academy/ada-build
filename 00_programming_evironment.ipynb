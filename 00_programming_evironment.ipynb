{
  "nbformat": 4,
  "nbformat_minor": 0,
  "metadata": {
    "colab": {
      "name": "00_programming_evironment.ipynb",
      "provenance": [],
      "collapsed_sections": [],
      "toc_visible": true,
      "include_colab_link": true
    },
    "kernelspec": {
      "name": "python3",
      "display_name": "Python 3"
    }
  },
  "cells": [
    {
      "cell_type": "markdown",
      "metadata": {
        "id": "view-in-github",
        "colab_type": "text"
      },
      "source": [
        "<a href=\"https://colab.research.google.com/github/Ada-Developers-Academy/ada-build/blob/master/00_programming_evironment.ipynb\" target=\"_parent\"><img src=\"https://colab.research.google.com/assets/colab-badge.svg\" alt=\"Open In Colab\"/></a>"
      ]
    },
    {
      "cell_type": "markdown",
      "metadata": {
        "id": "X-kxM3kGqVap",
        "colab_type": "text"
      },
      "source": [
        "**Programming Environment**\n",
        "\n",
        "_Ada Build - Intro to Python - Lesson 0_"
      ]
    },
    {
      "cell_type": "markdown",
      "metadata": {
        "id": "wgEtUJ9Lqn_k",
        "colab_type": "text"
      },
      "source": [
        "# Google Colab\n",
        "\n",
        "For the _Learning to Code_ portion of the Ada Build Curriculum you will review notes and complete exercises in a series of lessons in **Google Colab** Colab is google's hosting of Jupyter Notebook, an open-source web application that allows you to create and share documents that contain live code, equations, visualizations and narrative text. Uses for Jupyter Notebook include: data cleaning and transformation, numerical simulation, statistical modeling, data visualization, machine learning, and much more. Here we are using colab and jupyter notebook to create an interative intro to python course."
      ]
    },
    {
      "cell_type": "markdown",
      "metadata": {
        "id": "Qm8TQTTBq5f2",
        "colab_type": "text"
      },
      "source": [
        "## Text Cells\n",
        "\n",
        "This is a text cell. It's markup language called _markdown_. Double click and notice the notice the options you have for formatting. For the most part, you won't need to edit the text cells. The text cells are used to deliver content for you to review."
      ]
    },
    {
      "cell_type": "markdown",
      "metadata": {
        "id": "kiUZH2UErg_J",
        "colab_type": "text"
      },
      "source": [
        "## Code Cell\n",
        "\n",
        "The cell below is a code cell. You'll be completing programming exercises in the code cells."
      ]
    },
    {
      "cell_type": "code",
      "metadata": {
        "id": "1tev_KkEqQtC",
        "colab_type": "code",
        "colab": {}
      },
      "source": [
        "# press the play button on the left side of this cell to see a code cell in action\n",
        "5+5"
      ],
      "execution_count": null,
      "outputs": []
    },
    {
      "cell_type": "markdown",
      "metadata": {
        "id": "-ynHG8rpa08i",
        "colab_type": "text"
      },
      "source": [
        "### Uncomment, Execute, Re-comment\n",
        "In this curriculum, we will encounter code blocks with several lines of code that we will uncomment, execute, and re-comment in order to observe the effects of several related instructions. Doing this repeatedly using a mouse (or trackpad) can be tedious. But there's a better way: keyboard shortcuts!\n",
        "\n",
        "Professional developers minimize their use of the mouse (trackpad) as much as possible. Keyboard navigation is much more predictable and precise, which allows us to express our ideas in code much more fluidly, and to make edits to existing code faster, and with more confidence. While we don't need to use keyboard shortcuts exclusively yet &mdash; even professional developers will still use the mouse occasionally &mdash; it's a good idea to start getting used to them as soon as possible. The more we use them, the more habitual they become.\n",
        "\n",
        "Let's consider the code block below while reading about some simple shortcuts we can use in Colab. Be sure to try them out as we read about each shortcut!"
      ]
    },
    {
      "cell_type": "code",
      "metadata": {
        "id": "bWLO397ra30H",
        "colab_type": "code",
        "colab": {}
      },
      "source": [
        "# This line is a comment. It starts with #.\n",
        "# Python ignores comments. They are usually used by programmers to provide context to other programmers.\n",
        "# We can also use them to temporarily prevent Python from running certain lines of code.\n",
        "# More information about comments is provided later in this curriculum.\n",
        "\n",
        "# print(\"Hello World!\")\n",
        "# print(42)\n",
        "# print(5 + 6)"
      ],
      "execution_count": null,
      "outputs": []
    },
    {
      "cell_type": "markdown",
      "metadata": {
        "id": "y7MGXMPNa9vz",
        "colab_type": "text"
      },
      "source": [
        "#### Moving the Cursor &mdash; Arrow Keys\n",
        "Once you have clicked on a code block, a text cursor (also called a caret) will appear. You can move the cursor around the code block by using the arrow keys.\n",
        "\n",
        "#### Comment and Uncomment &mdash; Command Slash\n",
        "With the cursor anywhere on a line of code, you can turn the whole line into a comment by pressing `⌘` and `/` at the same time (`Ctrl` and `/` on Windows). This is usually just written as `⌘/` or `⌘+/`. If you are on a line which is already a comment, `⌘/` will remove the comment mark. You can toggle between a comment and not a comment by repeatedly pressing `⌘/`.\n",
        "\n",
        "#### Execute Code in a Block &mdash; Command Return\n",
        "To run (or re-run) a code block, you can press `⌘` and `Enter` (or `Return`) at the same time (`Ctrl` and `Enter` on Windows).\n",
        "\n",
        "#### Try it out\n",
        "In the previous code block, try to uncomment, execute, and re-comment each line of code using just keyboard shortcuts. Notice how much faster it is than moving the mouse to a comment symbol, pressing delete, moving to and clicking the play button, moving back to the start of the line and typing a comment symbol, then moving on to the next line. It may not seem like a lot, but we do operations like this all the time while writing code, so even small efficiencies can really add up over time!"
      ]
    },
    {
      "cell_type": "markdown",
      "metadata": {
        "id": "9GwVna0_3PR-",
        "colab_type": "text"
      },
      "source": [
        " And that's all you need to know for now. Onward!"
      ]
    }
  ]
}