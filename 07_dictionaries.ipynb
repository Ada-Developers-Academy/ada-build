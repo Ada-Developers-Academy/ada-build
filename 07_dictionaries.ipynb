{
  "nbformat": 4,
  "nbformat_minor": 0,
  "metadata": {
    "colab": {
      "name": "07_dictionaries.ipynb",
      "provenance": [],
      "collapsed_sections": [],
      "toc_visible": true,
      "include_colab_link": true
    },
    "kernelspec": {
      "name": "python3",
      "display_name": "Python 3"
    }
  },
  "cells": [
    {
      "cell_type": "markdown",
      "metadata": {
        "id": "view-in-github",
        "colab_type": "text"
      },
      "source": [
        "<a href=\"https://colab.research.google.com/github/Ada-Developers-Academy/ada-build/blob/build-reorg/07_dictionaries.ipynb\" target=\"_parent\"><img src=\"https://colab.research.google.com/assets/colab-badge.svg\" alt=\"Open In Colab\"/></a>"
      ]
    },
    {
      "cell_type": "markdown",
      "metadata": {
        "id": "WuHUIsra76PZ",
        "colab_type": "text"
      },
      "source": [
        "**Dictionaries**\n",
        "\n",
        "_Ada Build - Intro to Python - Lesson 7_"
      ]
    },
    {
      "cell_type": "markdown",
      "metadata": {
        "id": "n3LcT44w8CCo",
        "colab_type": "text"
      },
      "source": [
        "# Learning Goals\n",
        "\n",
        "By the end of this lesson you should be able to:\n",
        "\n",
        "\n",
        "\n",
        "*   Understand the following vocabulary terms:\n",
        "  * Data structure\n",
        "  * Dictionary\n",
        "  * Key-value pair\n",
        "*   Understand how to use a dictionary including:\n",
        "  * Accessing data\n",
        "  * Adding data\n",
        "  * Iterating through a dictionary\n",
        "* Explain the differences between a list and a dictionary.\n",
        "\n"
      ]
    },
    {
      "cell_type": "markdown",
      "metadata": {
        "id": "w14h_rm9OrsU",
        "colab_type": "text"
      },
      "source": [
        "# Notes"
      ]
    },
    {
      "cell_type": "markdown",
      "metadata": {
        "id": "lSi8dC4j8-Us",
        "colab_type": "text"
      },
      "source": [
        "## Overview\n",
        "\n",
        "A [_Dictionary_](https://docs.python.org/3/tutorial/datastructures.html#dictionaries) is a very popular collection type in Python.  It is somewhat similar to an list except that values are access by  unordered _keys_ which can be any immutable value instead of merely index numbers. A _Dictionary_ is a useful data structure to consider if you are looking to organize data in a way that makes it easy to look up information for a certain _key_.\n",
        "\n",
        "Below is an example of a _Dictionary_ in Python with two keys and values associated with each of the two keys."
      ]
    },
    {
      "cell_type": "code",
      "metadata": {
        "id": "X_AODEf7LlFr",
        "colab_type": "code",
        "colab": {}
      },
      "source": [
        "{\n",
        "    \"key1\": \"key1AssociatedValue\",\n",
        "    \"key2\": \"key2AssociatedValue\",\n",
        "}"
      ],
      "execution_count": null,
      "outputs": []
    },
    {
      "cell_type": "markdown",
      "metadata": {
        "id": "lorJaCmlL3qI",
        "colab_type": "text"
      },
      "source": [
        "## Creating Dictionaries\n",
        "\n",
        "A Dictionary can be assigned to a variable in a similar way to other types of data.\n",
        "\n",
        "### Empty Dictionary\n",
        "\n",
        "We can initialize an empty `Dictionary` by using `{}` (pronounced _brace_) as shown below:"
      ]
    },
    {
      "cell_type": "code",
      "metadata": {
        "id": "CxzTTSrrMMiE",
        "colab_type": "code",
        "colab": {
          "base_uri": "https://localhost:8080/",
          "height": 34
        },
        "outputId": "23a1cd15-7a1a-4619-a09d-60ca95bcf08d"
      },
      "source": [
        "# Create a dictionary\n",
        "my_dictionary = {}\n",
        "\n",
        "# Print statement so you can run and see the result\n",
        "print(my_dictionary)"
      ],
      "execution_count": null,
      "outputs": [
        {
          "output_type": "stream",
          "text": [
            "{}\n"
          ],
          "name": "stdout"
        }
      ]
    },
    {
      "cell_type": "markdown",
      "metadata": {
        "id": "dYBMQImKMRDF",
        "colab_type": "text"
      },
      "source": [
        "We know that this dictionary is empty because the _Dictionary_ definition starts with the `{`(left brace) and ends with the `}`(right brace), and there is nothing between those two symbols.\n",
        "\n",
        "The second way is to explicitly create a new instance of a _Dictionary_ using the `dict` function in the Python standard library."
      ]
    },
    {
      "cell_type": "code",
      "metadata": {
        "id": "1x6J7GoQVeuN",
        "colab_type": "code",
        "colab": {
          "base_uri": "https://localhost:8080/",
          "height": 34
        },
        "outputId": "a0160e62-d5f3-48c6-ea2e-41bf1e955cd0"
      },
      "source": [
        "# Create a dictionary\n",
        "my_dictionary = dict()\n",
        "\n",
        "# Print statement so you can run and see the result\n",
        "print(my_dictionary)"
      ],
      "execution_count": null,
      "outputs": [
        {
          "output_type": "stream",
          "text": [
            "{}\n"
          ],
          "name": "stdout"
        }
      ]
    },
    {
      "cell_type": "markdown",
      "metadata": {
        "id": "f8JCb1lpV0i3",
        "colab_type": "text"
      },
      "source": [
        "### Creating Dictionaries With Data\n",
        "\n",
        "The data in a dictionary consists of key-value pairs. Each key-value pair in a dictionary could be referred to as an item in the dictionary. The order of the key-value pairs is not guaranteed and hence, a dictionary is a collection of a unordered items.\n",
        "\n",
        "A new dictionary can be created with key-value pairs populated as follows:"
      ]
    },
    {
      "cell_type": "code",
      "metadata": {
        "id": "ldL475GqWczG",
        "colab_type": "code",
        "colab": {
          "base_uri": "https://localhost:8080/",
          "height": 34
        },
        "outputId": "ca3a0064-c6f7-4045-98d5-f4d58114aa87"
      },
      "source": [
        "# Create a dictionary called `my_cat` with values\n",
        "my_cat = {\n",
        "    \"name\": \"Samson\",\n",
        "    \"breed\": \"Alley-cat\",\n",
        "    \"age\": 8,\n",
        "}\n",
        "\n",
        "# Print statement so you can run and see the result\n",
        "print(my_cat)"
      ],
      "execution_count": null,
      "outputs": [
        {
          "output_type": "stream",
          "text": [
            "{'name': 'Samson', 'breed': 'Alley-cat', 'age': 8}\n"
          ],
          "name": "stdout"
        }
      ]
    },
    {
      "cell_type": "markdown",
      "metadata": {
        "id": "C4uiwJcBW1Xc",
        "colab_type": "text"
      },
      "source": [
        "The above dictionary is called `my_cat`. It has three key-value pairs. All the keys are string objects. The values associated with `\"name\"` and `\"breed\"` are string objects, `\"Samson\"` and `\"Alley-cat\"` respectively. The third key, `\"age\"` has a value of `8`, which is of type integer. In general, the value may be a more complex data structure and of any data type.\n",
        "\n",
        "Notice that in the above dictionary, `my_cat` uses a colon to separate keys from values and each key-value pair is separated by a comma.  The trailing comma after the last key-value pair is optional.\n"
      ]
    },
    {
      "cell_type": "markdown",
      "metadata": {
        "id": "vr8__M2B6HZ5",
        "colab_type": "text"
      },
      "source": [
        "### Exercise: Create a Dictionary\n",
        "\n",
        "Create a dictionary where the keys are each of the options in the _Rock, Paper, Scissors_ game and the values are the option it defeats.  For example with the key `\"rock\"` the value should be `\"scissors\"`."
      ]
    },
    {
      "cell_type": "code",
      "metadata": {
        "id": "fASPnlE88K54",
        "colab_type": "code",
        "colab": {}
      },
      "source": [
        "# You create dictionary here\n",
        "rock_paper_scissors_defeats = {\n",
        "    \n",
        "}\n",
        "\n",
        "# Code to test the result\n",
        "assert rock_paper_scissors_defeats.get(\"rock\") == \"scissors\", \"rock should defeat scissors\"\n",
        "assert rock_paper_scissors_defeats.get(\"scissors\") == \"paper\", \"scissors should defeat paper\"\n",
        "assert rock_paper_scissors_defeats.get(\"paper\") == \"rock\", \"paper should defeat rock\""
      ],
      "execution_count": null,
      "outputs": []
    },
    {
      "cell_type": "markdown",
      "metadata": {
        "id": "9_EzD8ySYciU",
        "colab_type": "text"
      },
      "source": [
        "## Accessing Values\n",
        "\n",
        "Once a dictionary is created values can be accessed using the `[]`, called _square brackets_.  You can also use the square brackets and key to reassign values."
      ]
    },
    {
      "cell_type": "code",
      "metadata": {
        "id": "-0qT4Xa6YrSL",
        "colab_type": "code",
        "colab": {
          "base_uri": "https://localhost:8080/",
          "height": 102
        },
        "outputId": "8e5c0d4c-2bc0-4bfa-c9b2-abe241366d57"
      },
      "source": [
        "my_cat = {\n",
        "    \"name\": \"Samson\",\n",
        "    \"breed\": \"Alley-cat\",\n",
        "    \"age\": 8,\n",
        "}\n",
        "\n",
        "print(my_cat[\"name\"])  # \"Samson\"\n",
        "print(my_cat[\"age\"])   # 8\n",
        "print(f\"My cat is named {my_cat['name']} and is an {my_cat['breed']} and is {my_cat['age']} years old\")\n",
        "\n",
        "# Reassign breed to \"Maine Coon\"\n",
        "my_cat[\"breed\"] = \"Maine Coon\"\n",
        "print(my_cat[\"breed\"]) # Maine Coon\n",
        "print(f\"My cat now is named {my_cat['name']} and is an {my_cat['breed']} and is {my_cat['age']} years old\")"
      ],
      "execution_count": null,
      "outputs": [
        {
          "output_type": "stream",
          "text": [
            "Samson\n",
            "8\n",
            "My cat is named Samson and is an Alley-cat and is 8 years old\n",
            "Maine Coon\n",
            "My cat now is named Samson and is an Maine Coon and is 8 years old\n"
          ],
          "name": "stdout"
        }
      ]
    },
    {
      "cell_type": "markdown",
      "metadata": {
        "id": "o6J7ehgI9BRa",
        "colab_type": "text"
      },
      "source": [
        "### Exercise: Access Name of Student\n",
        "\n",
        "In the following code segment print the grade of the student by accessing the value from the dictionary `student`."
      ]
    },
    {
      "cell_type": "code",
      "metadata": {
        "id": "en2UjTg59V3I",
        "colab_type": "code",
        "colab": {}
      },
      "source": [
        "student = {\n",
        "    \"name\": \"Ada Lovelace\",\n",
        "    \"id\": 12345,\n",
        "    \"age\": 147,\n",
        "    \"grade\": 11,\n",
        "}\n",
        "\n",
        "# Your code here\n"
      ],
      "execution_count": null,
      "outputs": []
    },
    {
      "cell_type": "markdown",
      "metadata": {
        "id": "Ub1vCNp3eeZQ",
        "colab_type": "text"
      },
      "source": [
        "## What can be used as keys?\n",
        "\n",
        "Any type of object, can be used as a value but dictionaries can only use immutable types as keys. That means you can use an _int_, or _string_, as a key, but not a _list_, or other _dictionary_.\n",
        "\n",
        "The following is OK:"
      ]
    },
    {
      "cell_type": "code",
      "metadata": {
        "id": "zA4KGnOIexj1",
        "colab_type": "code",
        "colab": {}
      },
      "source": [
        "# Dictionary with an integer as a key\n",
        "my_dict = {1: 1}\n",
        "\n",
        "# Dictionary with an integer as a key and a list as a value\n",
        "my_dict2 = {1: []}\n",
        "\n",
        "# Dictionary with a string as a key and a string as a value\n",
        "my_dict3 = {\"name\": \"Ada Lovelace\"}\n"
      ],
      "execution_count": null,
      "outputs": []
    },
    {
      "cell_type": "markdown",
      "metadata": {
        "id": "5hCRfVzhfdYG",
        "colab_type": "text"
      },
      "source": [
        "The following is **NOT OK**.  \n",
        "\n",
        "Uncomment the two lines and run the code to see the resulting error."
      ]
    },
    {
      "cell_type": "code",
      "metadata": {
        "id": "fhXrhRArfjmN",
        "colab_type": "code",
        "colab": {}
      },
      "source": [
        "# broken_dict = { {1: 1}: \"value\"} # won't work - Gives a TypeError\n",
        "\n",
        "# broken_dict2 = { [1, 2, 3, 4, 5]: \"value\"} # won't work - Gives a TypeError\n"
      ],
      "execution_count": null,
      "outputs": []
    },
    {
      "cell_type": "markdown",
      "metadata": {
        "id": "4C1RRY2mgDgF",
        "colab_type": "text"
      },
      "source": [
        "For keys, you can use values which are immutable (cannot change), but you cannot use types which can mutate or change over the life of the program.  \n",
        "\n",
        "For example you can never change the value of `1` in a program, so it makes a good key, but a list or dictionary can have new values added or key-value pairs change over time."
      ]
    },
    {
      "cell_type": "markdown",
      "metadata": {
        "id": "T3Tl6AfAbTW6",
        "colab_type": "text"
      },
      "source": [
        "## Using Built-In Methods and Functions\n",
        "\n",
        "`Dict` is a built-in type available in Python.  There are some important built-in methods and functions we can utilize.\n",
        "\n",
        "\n",
        "\n",
        "\n"
      ]
    },
    {
      "cell_type": "markdown",
      "metadata": {
        "id": "NEH6wqf3mz3u",
        "colab_type": "text"
      },
      "source": [
        "### `.get`\n",
        "\n",
        "The dictionary's `.get` method returns the value of the specified key."
      ]
    },
    {
      "cell_type": "code",
      "metadata": {
        "id": "uXjGqIlom_3r",
        "colab_type": "code",
        "colab": {
          "base_uri": "https://localhost:8080/",
          "height": 68
        },
        "outputId": "705bf036-bf08-4568-d5ad-7163c8294ee9"
      },
      "source": [
        "my_cat = {\n",
        "    \"name\": \"Samson\",\n",
        "    \"breed\": \"Alley-cat\",\n",
        "    \"age\": 8,\n",
        "}\n",
        "\n",
        "print(my_cat.get(\"name\")) # Samson\n",
        "print(my_cat.get(\"age\"))  # 8\n",
        "print(my_cat.get(\"invalid-key\")) # None"
      ],
      "execution_count": null,
      "outputs": [
        {
          "output_type": "stream",
          "text": [
            "Samson\n",
            "8\n",
            "None\n"
          ],
          "name": "stdout"
        }
      ]
    },
    {
      "cell_type": "markdown",
      "metadata": {
        "id": "ZTiulw4KnVyJ",
        "colab_type": "text"
      },
      "source": [
        "**Hmmmm... Why not use the square brackets instead of `.get`?**\n",
        "\n",
        "The advantage of the `.get` method is that if the key does not exist Python will return `None`.  With the square brackets (`[]`), Python will raise an error if the key does not exist.\n",
        "\n",
        "You can also provide a second argument to `get` if you would like some value other than `None` as a default.\n",
        "\n"
      ]
    },
    {
      "cell_type": "code",
      "metadata": {
        "id": "-0loep5JvjB3",
        "colab_type": "code",
        "colab": {
          "base_uri": "https://localhost:8080/",
          "height": 34
        },
        "outputId": "f2491b37-2e70-40ce-ec05-b1fd8641865f"
      },
      "source": [
        "my_cat = {\n",
        "    \"name\": \"Samson\",\n",
        "    \"breed\": \"Alley-cat\",\n",
        "    \"age\": 8,\n",
        "}\n",
        "\n",
        "print(my_cat.get(\"lives\", 9)) # Unless told otherwise we will assume 9 lives."
      ],
      "execution_count": null,
      "outputs": [
        {
          "output_type": "stream",
          "text": [
            "9\n"
          ],
          "name": "stdout"
        }
      ]
    },
    {
      "cell_type": "markdown",
      "metadata": {
        "id": "oU2TnPktJZOO",
        "colab_type": "text"
      },
      "source": [
        "### Exercise \n",
        "\n",
        "Uncomment the two lines below one by one to see the results."
      ]
    },
    {
      "cell_type": "code",
      "metadata": {
        "id": "wLbCApTqqOFn",
        "colab_type": "code",
        "colab": {
          "base_uri": "https://localhost:8080/",
          "height": 68
        },
        "outputId": "09941624-18a2-481a-fd93-14b547729013"
      },
      "source": [
        "my_cat = {\n",
        "    \"name\": \"Samson\",\n",
        "    \"breed\": \"Alley-cat\",\n",
        "    \"age\": 8,\n",
        "}\n",
        "\n",
        "print(my_cat.get(\"name\")) # \"Samson\"\n",
        "print(my_cat[\"name\"]) # \"Samson\"\n",
        "\n",
        "# print(my_cat.get(\"has_shots\")) # None\n",
        "# print(my_cat[\"has_shots\"]) # Raises a KeyError\n"
      ],
      "execution_count": null,
      "outputs": [
        {
          "output_type": "stream",
          "text": [
            "Samson\n",
            "Samson\n",
            "None\n"
          ],
          "name": "stdout"
        }
      ]
    },
    {
      "cell_type": "markdown",
      "metadata": {
        "id": "L1UACaBcmyiT",
        "colab_type": "text"
      },
      "source": [
        "### `.keys`\n",
        "\n",
        "Every dictionary has a `.keys` method which returns view object which contains they keys of the dictionary as a list."
      ]
    },
    {
      "cell_type": "code",
      "metadata": {
        "id": "iXvZePawg0NN",
        "colab_type": "code",
        "colab": {
          "base_uri": "https://localhost:8080/",
          "height": 51
        },
        "outputId": "412dafa7-c4c0-4f93-cfd3-d733b955b030"
      },
      "source": [
        "my_cat = {\n",
        "    \"name\": \"Samson\",\n",
        "    \"breed\": \"Alley-cat\",\n",
        "    \"age\": 8,\n",
        "}\n",
        "\n",
        "my_cat_keys = my_cat.keys()\n",
        "\n",
        "print(my_cat_keys) # dict_keys(['name', 'breed', 'age'])\n",
        "\n",
        "my_cat[\"has_shots\"] = True\n",
        "print(my_cat_keys) # dict_keys(['name', 'breed', 'age', 'has_shots'])\n"
      ],
      "execution_count": null,
      "outputs": [
        {
          "output_type": "stream",
          "text": [
            "dict_keys(['name', 'breed', 'age'])\n",
            "dict_keys(['name', 'breed', 'age', 'has_shots'])\n"
          ],
          "name": "stdout"
        }
      ]
    },
    {
      "cell_type": "markdown",
      "metadata": {
        "id": "ea0iX8NGiZXj",
        "colab_type": "text"
      },
      "source": [
        "\n",
        "Notice that the variable `my_cat_keys ` updated automaticlly when we added `\"has_shots\"`.  This is because `.keys` returns a _view_ of the dictionary's keys not a list of the keys.  \n",
        "\n",
        "```python\n",
        "print(my_cat_keys) \n",
        "# dict_keys(['name', 'breed', 'age']), NOT ['name', 'breed', 'age']\n",
        "```\n",
        "\n",
        "You cannot access each element like a list."
      ]
    },
    {
      "cell_type": "code",
      "metadata": {
        "id": "mhysRbLWk6CO",
        "colab_type": "code",
        "colab": {}
      },
      "source": [
        "my_cat = {\n",
        "    \"name\": \"Samson\",\n",
        "    \"breed\": \"Alley-cat\",\n",
        "    \"age\": 8,\n",
        "}\n",
        "\n",
        "my_cat_keys = my_cat.keys()\n",
        "# my_cat_keys[1] # Will cause a TypeError"
      ],
      "execution_count": null,
      "outputs": []
    },
    {
      "cell_type": "markdown",
      "metadata": {
        "id": "EN_NgQKUyb5k",
        "colab_type": "text"
      },
      "source": [
        "You can, however iterate through the keys with a `for` loop."
      ]
    },
    {
      "cell_type": "code",
      "metadata": {
        "id": "r2-1XKboybbB",
        "colab_type": "code",
        "colab": {
          "base_uri": "https://localhost:8080/",
          "height": 69
        },
        "outputId": "895f6dbc-18b0-4f45-a28d-9e77d4721583"
      },
      "source": [
        "my_cat = {\n",
        "    \"name\": \"Samson\",\n",
        "    \"breed\": \"Alley-cat\",\n",
        "    \"age\": 8,\n",
        "}\n",
        "\n",
        "my_cat_keys = my_cat.keys()\n",
        "for key in my_cat_keys:\n",
        "  print(key)"
      ],
      "execution_count": null,
      "outputs": [
        {
          "output_type": "stream",
          "text": [
            "name\n",
            "breed\n",
            "age\n"
          ],
          "name": "stdout"
        }
      ]
    },
    {
      "cell_type": "markdown",
      "metadata": {
        "id": "GiQdE_beyvQb",
        "colab_type": "text"
      },
      "source": [
        "Or convert the keys into a list using `list`."
      ]
    },
    {
      "cell_type": "code",
      "metadata": {
        "id": "Cm6llbdCyyxx",
        "colab_type": "code",
        "colab": {
          "base_uri": "https://localhost:8080/",
          "height": 36
        },
        "outputId": "98fd87d5-860b-46be-c73d-add7bd52c9e3"
      },
      "source": [
        "my_cat = {\n",
        "    \"name\": \"Samson\",\n",
        "    \"breed\": \"Alley-cat\",\n",
        "    \"age\": 8,\n",
        "}\n",
        "\n",
        "my_cat_keys = my_cat.keys()\n",
        "list(my_cat_keys)[0]"
      ],
      "execution_count": null,
      "outputs": [
        {
          "output_type": "execute_result",
          "data": {
            "application/vnd.google.colaboratory.intrinsic+json": {
              "type": "string"
            },
            "text/plain": [
              "'name'"
            ]
          },
          "metadata": {
            "tags": []
          },
          "execution_count": 3
        }
      ]
    },
    {
      "cell_type": "markdown",
      "metadata": {
        "id": "wcC_jjPaz120",
        "colab_type": "text"
      },
      "source": [
        "Note that if you convert the view to a list it will no longer be connected to the original dictionary."
      ]
    },
    {
      "cell_type": "code",
      "metadata": {
        "id": "JQ5k9B6Vz8E8",
        "colab_type": "code",
        "colab": {
          "base_uri": "https://localhost:8080/",
          "height": 86
        },
        "outputId": "46d8c197-9f2a-4bcf-e1df-5a9885049a9d"
      },
      "source": [
        "my_cat = {\n",
        "    \"name\": \"Samson\",\n",
        "    \"breed\": \"Alley-cat\",\n",
        "    \"age\": 8,\n",
        "}\n",
        "\n",
        "my_cat_keys = my_cat.keys()\n",
        "my_cat_keys_list = list(my_cat_keys)\n",
        "\n",
        "print(my_cat_keys) # dict_keys(['name', 'breed', 'age'])\n",
        "print(my_cat_keys_list) # ['name', 'breed', 'age']\n",
        "\n",
        "my_cat[\"has_shots\"] = True\n",
        "print(my_cat_keys) # dict_keys(['name', 'breed', 'age', 'has_shots'])\n",
        "print(my_cat_keys_list) # ['name', 'breed', 'age']"
      ],
      "execution_count": null,
      "outputs": [
        {
          "output_type": "stream",
          "text": [
            "dict_keys(['name', 'breed', 'age'])\n",
            "['name', 'breed', 'age']\n",
            "dict_keys(['name', 'breed', 'age', 'has_shots'])\n",
            "['name', 'breed', 'age']\n"
          ],
          "name": "stdout"
        }
      ]
    },
    {
      "cell_type": "markdown",
      "metadata": {
        "id": "qDTvZ0fNmCQg",
        "colab_type": "text"
      },
      "source": [
        "### `.values`\n",
        "\n",
        "Similar to the `.keys` method, every dictionary has a `.values` method which gives you view object containing the values of the dictionary as a list.\n",
        "\n"
      ]
    },
    {
      "cell_type": "code",
      "metadata": {
        "id": "RqSnoV5JmYC_",
        "colab_type": "code",
        "colab": {
          "base_uri": "https://localhost:8080/",
          "height": 51
        },
        "outputId": "d7a3258e-8d0d-4672-e9fc-92a0fa02c4c3"
      },
      "source": [
        "my_cat = {\n",
        "    \"name\": \"Samson\",\n",
        "    \"breed\": \"Alley-cat\",\n",
        "    \"age\": 8,\n",
        "}\n",
        "\n",
        "my_cat_values = my_cat.values()\n",
        "\n",
        "print(my_cat_values) # dict_values(['Samson', 'Alley-cat', 8])\n",
        "\n",
        "my_cat[\"has_shots\"] = True\n",
        "print(my_cat_values) # dict_values(['Samson', 'Alley-cat', 8, True])"
      ],
      "execution_count": null,
      "outputs": [
        {
          "output_type": "stream",
          "text": [
            "dict_values(['Samson', 'Alley-cat', 8])\n",
            "dict_values(['Samson', 'Alley-cat', 8, True])\n"
          ],
          "name": "stdout"
        }
      ]
    },
    {
      "cell_type": "markdown",
      "metadata": {
        "id": "SpZBO8am1h3X",
        "colab_type": "text"
      },
      "source": [
        "### `len` function\n",
        "\n",
        "To find the size of a dictionary you can use the `len` function (just like you can for a list or a string)."
      ]
    },
    {
      "cell_type": "code",
      "metadata": {
        "id": "eF-vT6Os1qcs",
        "colab_type": "code",
        "colab": {
          "base_uri": "https://localhost:8080/",
          "height": 34
        },
        "outputId": "83b2503f-ec46-4667-acbb-2263ea4502bb"
      },
      "source": [
        "my_cat = {\n",
        "    \"name\": \"Samson\",\n",
        "    \"breed\": \"Alley-cat\",\n",
        "    \"age\": 8,\n",
        "}\n",
        "\n",
        "length = len(my_cat)\n",
        "\n",
        "print(length) # 3"
      ],
      "execution_count": null,
      "outputs": [
        {
          "output_type": "stream",
          "text": [
            "3\n"
          ],
          "name": "stdout"
        }
      ]
    },
    {
      "cell_type": "markdown",
      "metadata": {
        "id": "Vrfgav-sxUhb",
        "colab_type": "text"
      },
      "source": [
        "## Looping Over a Dictionary\n",
        "\n",
        "[You can iterate over a dictionary](https://docs.python.org/3/tutorial/datastructures.html?highlight=lists#looping-techniques), just like a list.  However unlike a list, a dictionary does not maintain the items in order.  \n",
        "\n",
        "You might get lucky once in a while (especially for small dictionaries) but don't rely on it!"
      ]
    },
    {
      "cell_type": "code",
      "metadata": {
        "id": "fMhzT1igxhmW",
        "colab_type": "code",
        "colab": {
          "base_uri": "https://localhost:8080/",
          "height": 68
        },
        "outputId": "30a8a06f-d164-42b0-9415-bbddd5674f64"
      },
      "source": [
        "my_cat = {\n",
        "    \"name\": \"Samson\",\n",
        "    \"breed\": \"Alley-cat\",\n",
        "    \"age\": 8,\n",
        "}\n",
        "\n",
        "for key in my_cat:\n",
        "    print(f\"The key is {key} and the value is {my_cat[key]}\")"
      ],
      "execution_count": null,
      "outputs": [
        {
          "output_type": "stream",
          "text": [
            "The key is name and the value is Samson\n",
            "The key is breed and the value is Alley-cat\n",
            "The key is age and the value is 8\n"
          ],
          "name": "stdout"
        }
      ]
    },
    {
      "cell_type": "markdown",
      "metadata": {
        "id": "5R5_u8_TyWdO",
        "colab_type": "text"
      },
      "source": [
        "In the code above the iterator variable `key` becomes `\"name\"` then `\"breed\"` and lastly `\"age\".`  We can then use that value to access the corresponding value."
      ]
    },
    {
      "cell_type": "markdown",
      "metadata": {
        "id": "rmEfJLKj-PWS",
        "colab_type": "text"
      },
      "source": [
        "#### Exercise: Printing out a dictionary\n",
        "\n",
        "Using the provided dictionary which illustrates the rock-paper-scissors choices and which choice that option defeats print out each option in paper-rock-scissors and what option it defeates.  You can use a loop!\n",
        "\n",
        "Your output should look something like:\n",
        "\n",
        "```python\n",
        "rock defeats scissors\n",
        "scissors defeats paper\n",
        "paper defeats rock\n",
        "```"
      ]
    },
    {
      "cell_type": "code",
      "metadata": {
        "id": "j6dM1DUz-zqD",
        "colab_type": "code",
        "colab": {}
      },
      "source": [
        "rock_paper_scissors_defeats = {\n",
        "    \"rock\": \"scissors\",\n",
        "    \"scissors\": \"paper\",\n",
        "    \"paper\": \"rock\",\n",
        "}\n",
        "\n",
        "# Your code here"
      ],
      "execution_count": null,
      "outputs": []
    },
    {
      "cell_type": "markdown",
      "metadata": {
        "id": "0pdTXOl0yzW8",
        "colab_type": "text"
      },
      "source": [
        "## Removing Values From A Dictionary\n",
        "\n",
        "You can use either the `del` command or the `.pop` method to remove a key-value pair from a dictionary."
      ]
    },
    {
      "cell_type": "code",
      "metadata": {
        "id": "lpCl_O_L03SE",
        "colab_type": "code",
        "colab": {
          "base_uri": "https://localhost:8080/",
          "height": 69
        },
        "outputId": "4ae3d677-966a-458c-c4d4-bb3b89eae03b"
      },
      "source": [
        "my_cat = {\n",
        "    \"name\": \"Samson\",\n",
        "    \"breed\": \"Alley-cat\",\n",
        "    \"age\": 8,\n",
        "}\n",
        "\n",
        "print(my_cat)       # {'name': 'Samson', 'breed': 'Alley-cat', 'age': 8}\n",
        "\n",
        "del(my_cat[\"name\"])  # remove name from my_cat\n",
        "print(my_cat)       # {'breed': 'Alley-cat', 'age': 8}\n",
        "\n",
        "breed = my_cat.pop(\"breed\") # remove the breed, return the value.\n",
        "print(my_cat)       # {'age': 8}\n",
        "print(breed)        # Alley-cat"
      ],
      "execution_count": null,
      "outputs": [
        {
          "output_type": "stream",
          "text": [
            "{'name': 'Samson', 'breed': 'Alley-cat', 'age': 8}\n",
            "{'breed': 'Alley-cat', 'age': 8}\n",
            "{'age': 8}\n"
          ],
          "name": "stdout"
        }
      ]
    },
    {
      "cell_type": "markdown",
      "metadata": {
        "id": "Xsce3-Ry6xYT",
        "colab_type": "text"
      },
      "source": [
        "Note the `.pop` returns the value that matches the removed key."
      ]
    },
    {
      "cell_type": "markdown",
      "metadata": {
        "id": "j9wpoTGVjufa",
        "colab_type": "text"
      },
      "source": [
        "## Dictionaries vs Lists\n",
        "\n",
        "In Python dictionaries and lists both:\n",
        "\n",
        "* Store collections of data.\n",
        "* Allow access to individual elements via a key or index.\n",
        "* Allow the collection to be iterated through.\n",
        "\n",
        "On the other hand Lists differ in that they:\n",
        "\n",
        "* Maintain elements in a specific order while dictionaries do not maintain order.\n",
        "* Use integer indexes to access specific elements, while a dictionary value can use any type of immutable data as a key.\n"
      ]
    },
    {
      "cell_type": "markdown",
      "metadata": {
        "id": "Y3KFYJyYkkoG",
        "colab_type": "text"
      },
      "source": [
        "## Vocabulary\n",
        "\n",
        "**Data Structure**\t\n",
        "* A data structure is a collection of data organized in some manner with functions or operations.\n",
        "\n",
        "**Key-value-pair** \t\n",
        "* A set of two linked data items.  In a dictionary, the key value can be used to lookup and retrieve thelinked value.  Similar to how a word in an English dictionary can be used to look up a definition. \t\n",
        "\n",
        "**Dictionary**\t\n",
        "* A data structure which stores a collection of key-value-pairs, each key-value-pair maps the key to it's associated value.\n"
      ]
    },
    {
      "cell_type": "markdown",
      "metadata": {
        "id": "bZnXDXIw2iX7",
        "colab_type": "text"
      },
      "source": [
        "## Nested Dictionaries\n",
        "\n",
        "You can also create nested collections of dictionaries and lists. "
      ]
    },
    {
      "cell_type": "markdown",
      "metadata": {
        "id": "EnG4Z86K5DJ_",
        "colab_type": "text"
      },
      "source": [
        "### List of dictionaries\n",
        "\n",
        "Lists are a collection of elements of any data type, so it follows that you can make a list that is a collection of dictionaries."
      ]
    },
    {
      "cell_type": "code",
      "metadata": {
        "id": "gIotOXsd4ZJk",
        "colab_type": "code",
        "colab": {
          "base_uri": "https://localhost:8080/",
          "height": 51
        },
        "outputId": "c74d0138-293a-4196-cb5d-ceb13e9d0518"
      },
      "source": [
        "# List of Dictionaries\n",
        "pet_list = [\n",
        "    {\n",
        "        \"name\": \"Samson\",\n",
        "        \"breed\": \"Alley-cat\",\n",
        "        \"age\": 8,\n",
        "    },\n",
        "    {\n",
        "        \"name\": \"Kylo\",\n",
        "        \"breed\": \"Siamese\",\n",
        "        \"age\": 12,\n",
        "    },\n",
        "    {\n",
        "        \"name\": \"Fix\",\n",
        "        \"breed\": \"Munchkin\",\n",
        "        \"age\": 2,\n",
        "    },\n",
        "]\n",
        "\n",
        "print(pet_list)\n",
        "print(pet_list[2])"
      ],
      "execution_count": null,
      "outputs": [
        {
          "output_type": "stream",
          "text": [
            "[{'name': 'Samson', 'breed': 'Alley-cat', 'age': 8}, {'name': 'Kylo', 'breed': 'Siamese', 'age': 12}, {'name': 'Fix', 'breed': 'Munchkin', 'age': 2}]\n",
            "{'name': 'Fix', 'breed': 'Munchkin', 'age': 2}\n"
          ],
          "name": "stdout"
        }
      ]
    },
    {
      "cell_type": "markdown",
      "metadata": {
        "id": "etwQZCKJ5NRK",
        "colab_type": "text"
      },
      "source": [
        "### Dictionary of Dictionaries\n",
        "\n",
        "You can make a dictionary where values in the key-value pairs are themselves dictionaries."
      ]
    },
    {
      "cell_type": "code",
      "metadata": {
        "id": "SQeVYpmP5ZBy",
        "colab_type": "code",
        "colab": {
          "base_uri": "https://localhost:8080/",
          "height": 51
        },
        "outputId": "df8d729f-a41a-4a52-c63f-0e5641bf30a1"
      },
      "source": [
        "pet_dict = {\n",
        "    \"Simon\": {\n",
        "        \"name\": \"Samson\",\n",
        "        \"breed\": \"Alley-cat\",\n",
        "        \"age\": 8,     \n",
        "    },\n",
        "    \"Devin\": {\n",
        "        \"name\": \"Peter\",\n",
        "        \"breed\": \"Sphynx\",\n",
        "        \"age\": 12,        \n",
        "    },            \n",
        "}\n",
        "\n",
        "\n",
        "print(pet_dict[\"Simon\"])\n",
        "\n",
        "# print the name of Simon's pet\n",
        "print(pet_dict[\"Simon\"][\"name\"])"
      ],
      "execution_count": null,
      "outputs": [
        {
          "output_type": "stream",
          "text": [
            "{'name': 'Samson', 'breed': 'Alley-cat', 'age': 8}\n",
            "Samson\n"
          ],
          "name": "stdout"
        }
      ]
    },
    {
      "cell_type": "markdown",
      "metadata": {
        "id": "liOxySakOyHu",
        "colab_type": "text"
      },
      "source": [
        "# Practice Problems\n",
        "\n",
        "Read the code in each section, then write exactly what the code prints out. Check your answers in the code cell below.\n",
        "\n",
        "Each problem stands alone. Variables from previous problems do not exist.\n",
        "\n",
        "\n",
        "```python\n",
        "# example\n",
        "x = 5\n",
        "y = 6\n",
        "print(x+y)\n",
        "# => 11\n",
        "```\n",
        "\n",
        "```python\n",
        "# problem 1\n",
        "person = {\n",
        "    \"first_name\": \"ada\",\n",
        "    \"last_name\": \"lovelace\",\n",
        "    \"nickname\": \"adie\"\n",
        "}\n",
        "\n",
        "print(len(person))\n",
        "print(person[\"last_name\"])\n",
        "```\n",
        "\n",
        "```python\n",
        "# problem 2\n",
        "animals = {\n",
        "    \"dog\": \"canine\",\n",
        "    \"cat\": \"feline\"\n",
        "}\n",
        "\n",
        "animals[\"cat\"] = \"feline\"\n",
        "print(animals[\"dog\"])\n",
        "print(animals[\"donkey\"])\n",
        "```\n",
        "\n",
        "\n",
        "```python\n",
        "# problem 3\n",
        "workout_summary = {\n",
        "    \"squats\": 99,\n",
        "    \"lunges\": 98,\n",
        "    \"yoga\": True\n",
        "}\n",
        "\n",
        "workout_summary[\"lunges\"] = 101\n",
        "print(workout_summary[\"lunges\"])\n",
        "```\n",
        "\n",
        "```python\n",
        "# problem 4\n",
        "menu = {}\n",
        "menu[\"ramen\"] = \"garlic tonkotsu\"\n",
        "menu[\"burger\"] = \"bleu sun\"\n",
        "menu[\"tea\"] = \"green\"\n",
        "print(len(menu))\n",
        "print(menu[\"burger\"])\n",
        "print(menu[\"tater_tots\"])\n",
        "```\n",
        "\n",
        "\n",
        "```python\n",
        "# problem 5\n",
        "human_being = {\n",
        "    \"species\": \"Sapiens\",\n",
        "    \"genus\": \"Homo\",\n",
        "    \"tribe\": \"Hominini\",\n",
        "    \"meaning\": \"wise man\"\n",
        "}\n",
        "\n",
        "print(len(human_being))\n",
        "print(f'The only living species of genus {human_being[\"genus\"]} are {human_being[\"species\"]}.')\n",
        "print(len(human_being[\"meaning\"]))\n",
        "```\n",
        "\n",
        "```python\n",
        "# problem 6\n",
        "oatmeal_raisin = {\n",
        "    \"gluten_free\": False,\n",
        "    \"dairy_free\": True,\n",
        "    \"non_gmo\": True,\n",
        "    \"vegan\": True,\n",
        "    \"allergens\": \"nuts\"\n",
        "}\n",
        "\n",
        "print(len(oatmeal_raisin))\n",
        "\n",
        "if oatmeal_raisin[\"dairy_free\"]:\n",
        "    print(\"Oatmeal raisin cookies are dairy free.\")\n",
        "\n",
        "oatmeal_raisin[\"allergens\"] += \", soy\"\n",
        "print(oatmeal_raisin[\"allergens\"])\n",
        "\n",
        "if(not(oatmeal_raisin[\"gluten_free\"]) or not(oatmeal_raisin[\"vegan\"])):\n",
        "    print(\"The oatmeal raisin cookie is either not gluten free or not vegan.\")\n",
        "```"
      ]
    },
    {
      "cell_type": "code",
      "metadata": {
        "id": "VBLhw6Y3Klgd",
        "colab_type": "code",
        "colab": {}
      },
      "source": [
        ""
      ],
      "execution_count": null,
      "outputs": []
    },
    {
      "cell_type": "markdown",
      "metadata": {
        "id": "HyAwh9tBPTgj",
        "colab_type": "text"
      },
      "source": [
        "# Project - Account Generator - v2\n",
        "\n",
        "Now that we know about dictionaries, we will refactor your original account generator code to utilize lists with dictionaries. Since each student has three pieces of data (_names_, _id numbers_, and _email_addresses_), we will utilize a dictionary to store these three pieces of data.\n",
        "\n",
        "This is a better solution because this will keep each student record together instead of having three separate lists with the student data. When a new student record is created, one dictionary needs to be added to the list rather than three pieces of data to individual lists."
      ]
    },
    {
      "cell_type": "code",
      "metadata": {
        "id": "hJX70aLqcOSx",
        "colab_type": "code",
        "colab": {}
      },
      "source": [
        "student_data = [\n",
        "    {\n",
        "        \"name\": \"Mary Jane\",\n",
        "        \"ID\": 1000000,\n",
        "        \"email\": \"mjane@adadevelopersacademy.org\"\n",
        "    },\n",
        "    {\n",
        "        \"name\": \"Jones Smith\",\n",
        "        \"ID\": 1000001,\n",
        "        \"email\": \"jsmith@adadevelopersacademy.org\"\n",
        "    }\n",
        "]\n",
        "\n",
        "# Retrieve the data from the list of dictionaries\n",
        "student_data[0][\"name\"]\n",
        "# => \"Mary Jane\""
      ],
      "execution_count": null,
      "outputs": []
    },
    {
      "cell_type": "markdown",
      "metadata": {
        "id": "S7JPtxjKc9O5",
        "colab_type": "text"
      },
      "source": [
        "## Complete the following refactor steps:\n",
        "\n",
        "- Utilize a single list variable to store all student information, instead of three individual lists. \n",
        "    - This list will contain many dictionaries.\n",
        "- Utilize a single loop to drive the dictionary population (you may have nested loops inside this loop for other functionality):\n",
        "    - read student's name from a separate list or accept user input for the student's name. \n",
        "    - generate random student ID\n",
        "    - generate student email address from previous pieces of data\n",
        "- Update the printing functionality to utilize this new dictionary variable to print out student roster\n"
      ]
    },
    {
      "cell_type": "code",
      "metadata": {
        "id": "qFfG11yDiHbz",
        "colab_type": "code",
        "colab": {}
      },
      "source": [
        "# your code goes here"
      ],
      "execution_count": null,
      "outputs": []
    },
    {
      "cell_type": "markdown",
      "metadata": {
        "id": "LtHunXiLiH_6",
        "colab_type": "text"
      },
      "source": [
        "[A solution is linked here](https://repl.it/join/ynlsprrs-beccaelenzil)."
      ]
    },
    {
      "cell_type": "markdown",
      "metadata": {
        "id": "eqKhoYH98biy",
        "colab_type": "text"
      },
      "source": [
        "## MadLib Assignment\n",
        "\n",
        "* Write a MadLib program\n",
        "  * First play a few on [eduplace](https://www.eduplace.com/tales/) to become familiar with the game\n",
        "  * Create a MadLib program that accepts input from the user and outputs a completed MadLib\n",
        "  * Use up to ten different parts of speech in order to fill in your MadLib\n",
        "  * Output should consist of a paragraph of output that has the user’s input substituted into the MadLib, we have provided an example run, but your MadLib program should be unique to you\n",
        "\n",
        "    ```\n",
        "    Welcome to my MadLib program. Please enter in some information below:\n",
        "\n",
        "    name: Starr\n",
        "    adjective: huge\n",
        "    noun: tablecloth\n",
        "    adjective: dry\n",
        "    food (plural): tacos\n",
        "    noun (plural): packs\n",
        "    verb ending in -ed: ended\n",
        "    noun: jellyfish\n",
        "\n",
        "    HERE'S YOUR MADLIB.......\n",
        "\n",
        "    Come on over to Starr’s Pizza Parlor where you can enjoy your favorite huge-dish pizza`s.\n",
        "    You can try our famous tablecloth-lovers pizza,\n",
        "    or select from our list of dry toppings,\n",
        "    including delicious tacos, packs, and many more.\n",
        "    Our crusts are hand-ended and basted in jellyfish to make\n",
        "    them seem more Hand-made.\n",
        "    ```\n",
        "\n",
        "  * Your code should use comments throughout to explain the code, reuse at least one word, and ask for at least 1 number.\n",
        "  * You can use a list and/or dictionary to store the parts of speech and user input.\n",
        "  * Explore Python's built in methods for [String](https://docs.python.org/3/library/string.html?highlight=strings) like `capitalize`, `upper`, `lower`.\n",
        "* Recall from the functions lesson that you prompt the user for input with the built-in [input](https://docs.python.org/3/library/functions.html#input) function.\n",
        "\n",
        "[Our implementation is linked here](https://repl.it/join/sdlpgwoa-beccaelenzil)\n"
      ]
    }
  ]
}