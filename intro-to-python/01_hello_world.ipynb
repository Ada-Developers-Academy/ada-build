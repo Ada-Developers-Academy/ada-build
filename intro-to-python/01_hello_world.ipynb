{
  "nbformat": 4,
  "nbformat_minor": 0,
  "metadata": {
    "colab": {
      "name": "01_hello_world.ipynb",
      "provenance": [],
      "collapsed_sections": [],
      "toc_visible": true,
      "include_colab_link": true
    },
    "kernelspec": {
      "name": "python3",
      "display_name": "Python 3"
    }
  },
  "cells": [
    {
      "cell_type": "markdown",
      "metadata": {
        "id": "view-in-github",
        "colab_type": "text"
      },
      "source": [
        "<a href=\"https://colab.research.google.com/github/Ada-Developers-Academy/ada-build/blob/build-reorg/01_hello_world.ipynb\" target=\"_parent\"><img src=\"https://colab.research.google.com/assets/colab-badge.svg\" alt=\"Open In Colab\"/></a>"
      ]
    },
    {
      "cell_type": "markdown",
      "metadata": {
        "id": "uWu-sC6N_1ie",
        "colab_type": "text"
      },
      "source": [
        "**Hello, World!**\n",
        "\n",
        "_Ada Build - Intro to Python - Lesson 1_"
      ]
    },
    {
      "cell_type": "markdown",
      "metadata": {
        "id": "IteFXUcRH5un",
        "colab_type": "text"
      },
      "source": [
        "# Learning Goals\n",
        "* Practice using **Jupyter Notebooks** in **Colab** to write and excute Python code.\n",
        "* Understand and use the `print` function."
      ]
    },
    {
      "cell_type": "markdown",
      "metadata": {
        "id": "13XOB41yIPXG",
        "colab_type": "text"
      },
      "source": [
        "# Overview\n",
        "\n",
        "A _Hello World_ program is the first program that people often write when exploring with a new programming language. In this lesson you will write a hello world program in a _code block_ in this **Colab** notebook. **Colab** is google's hosting of **Jupyter Notebook**, an open-source web application that allows you to create and share documents that contain live code, equations, visualizations and narrative text. Uses for **Jupyter Notebook** include: data cleaning and transformation, numerical simulation, statistical modeling, data visualization, machine learning, and much more. Here we are using **Colab** and **Jupyter Notebook** to create an interative intro to Python course."
      ]
    },
    {
      "cell_type": "markdown",
      "metadata": {
        "id": "Sv2M5OgoLzbj",
        "colab_type": "text"
      },
      "source": [
        "# Activities\n",
        "\n",
        "* Read about the history of [\"hello, world\"](https://en.wikipedia.org/wiki/%22Hello,_World!%22_program)\n",
        "* Write and execute a hello world program in the code block below.\n",
        "  - Type `print(\"Hello, World\")` in the code block below.\n",
        "  - Click the play button that will appear when you hover over the brackets `[ ]`."
      ]
    },
    {
      "cell_type": "code",
      "metadata": {
        "id": "vPfkGm5jMtHW",
        "colab_type": "code",
        "colab": {}
      },
      "source": [
        ""
      ],
      "execution_count": null,
      "outputs": []
    },
    {
      "cell_type": "markdown",
      "metadata": {
        "id": "EcGFo9CfO4gY",
        "colab_type": "text"
      },
      "source": [
        "# What is [`print`]((https://docs.python.org/3/library/functions.html#print)?\n",
        "\n",
        "`print` is a **function** that prints the specified _argument_ to the screen. For the code we just wrote `print(\"Hello, World\")` the _argument_ is the _string_ `\"Hello, World\"`. A _string_ is any collection of characters enclosed with quotation marks `\" \"`. In python, **functions** are invoked using parentheses `()` with zero or more arguments inside. We'll talk more about strings and functions soon."
      ]
    },
    {
      "cell_type": "markdown",
      "metadata": {
        "id": "BCd8G6xjQqZn",
        "colab_type": "text"
      },
      "source": [
        "# Reflect \n",
        "\n",
        "Take a moment to run the two code blocks below. \n",
        "- What do you notice? \n",
        "- What do you wonder?"
      ]
    },
    {
      "cell_type": "code",
      "metadata": {
        "id": "OlVepEX0QT6I",
        "colab_type": "code",
        "colab": {}
      },
      "source": [
        "print(\"Welcome to Ada!\")\n",
        "print(\"We're so glad you're here.\")"
      ],
      "execution_count": null,
      "outputs": []
    },
    {
      "cell_type": "code",
      "metadata": {
        "id": "f4FXirMEQC2f",
        "colab_type": "code",
        "colab": {}
      },
      "source": [
        "print(\"Welcome to Ada!\\nWe're so glad you're here.\")"
      ],
      "execution_count": null,
      "outputs": []
    },
    {
      "cell_type": "markdown",
      "metadata": {
        "id": "eR-gz7u8QyEt",
        "colab_type": "text"
      },
      "source": [
        "Record your thoughts and questions using the _Comment_ feature provided by _Google Drive_.\n",
        "\n",
        "![comment](https://drive.google.com/uc?id=1pbnhyqbgsQA4iyKJeTldAT5cFnjk_kFA)"
      ]
    }
  ]
}