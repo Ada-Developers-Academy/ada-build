{
  "nbformat": 4,
  "nbformat_minor": 0,
  "metadata": {
    "colab": {
      "name": "08_hello_world.ipynb",
      "provenance": [],
      "toc_visible": true,
      "authorship_tag": "ABX9TyOP1YErwuHwqqE3YbQs7tqi",
      "include_colab_link": true
    },
    "kernelspec": {
      "name": "python3",
      "display_name": "Python 3"
    }
  },
  "cells": [
    {
      "cell_type": "markdown",
      "metadata": {
        "id": "view-in-github",
        "colab_type": "text"
      },
      "source": [
        "<a href=\"https://colab.research.google.com/github/Ada-Developers-Academy/jump-start/blob/python-learning-to-code/08_hello_world.ipynb\" target=\"_parent\"><img src=\"https://colab.research.google.com/assets/colab-badge.svg\" alt=\"Open In Colab\"/></a>"
      ]
    },
    {
      "cell_type": "markdown",
      "metadata": {
        "id": "uWu-sC6N_1ie",
        "colab_type": "text"
      },
      "source": [
        "# Hello, World!"
      ]
    },
    {
      "cell_type": "markdown",
      "metadata": {
        "id": "IteFXUcRH5un",
        "colab_type": "text"
      },
      "source": [
        "## Learning Goals\n",
        "* Practice using `jupyter notebooks` in `colab` to write and excute Python code.\n",
        "* Understand and use the `print` function."
      ]
    },
    {
      "cell_type": "markdown",
      "metadata": {
        "id": "13XOB41yIPXG",
        "colab_type": "text"
      },
      "source": [
        "## Overview\n",
        "\n",
        "A _Hello World_ program is the first program that people often write when exploring with a new programming language. In this lesson you will write a hello world program in a `code` block in this `colab` notebook. `Colab` is google's hosting of `Jupyter Notebook`, an open-source web application that allows you to create and share documents that contain live code, equations, visualizations and narrative text. Uses for `Jupyter Notebook` include: data cleaning and transformation, numerical simulation, statistical modeling, data visualization, machine learning, and much more. Here we are using `colab` and `jupyter notebook` to create an interative intro to python course."
      ]
    },
    {
      "cell_type": "markdown",
      "metadata": {
        "id": "Sv2M5OgoLzbj",
        "colab_type": "text"
      },
      "source": [
        "## Activities\n",
        "\n",
        "* Read about the history of [\"hello, world\"](https://en.wikipedia.org/wiki/%22Hello,_World!%22_program)\n",
        "* Write and execute a hello world program in the code block below.\n",
        "  - Type `print(\"Hello, World\")` in the code block below.\n",
        "  - Click the play button that will appear when you hover over the brackets `[ ]`."
      ]
    },
    {
      "cell_type": "code",
      "metadata": {
        "id": "vPfkGm5jMtHW",
        "colab_type": "code",
        "colab": {}
      },
      "source": [
        ""
      ],
      "execution_count": null,
      "outputs": []
    },
    {
      "cell_type": "markdown",
      "metadata": {
        "id": "EcGFo9CfO4gY",
        "colab_type": "text"
      },
      "source": [
        "## What is `print`?\n",
        "\n",
        "`print` is a function that prints the specified `argument` to the screen. For the code we just wrote `print(\"Hello, World\")` the `argument` is the `string` `\"Hello, World\"`. A `string` is any collection of characters enclosed with quotation marks `\" \"`. In python, `function`s are invoked using parentheses `()` with zero or more arguments inside. We'll talk more about strings and functions soon."
      ]
    },
    {
      "cell_type": "markdown",
      "metadata": {
        "id": "BCd8G6xjQqZn",
        "colab_type": "text"
      },
      "source": [
        "## Reflect \n",
        "\n",
        "Take a moment to run the two code blocks below. \n",
        "- What do you notice? \n",
        "- What do you wonder?"
      ]
    },
    {
      "cell_type": "code",
      "metadata": {
        "id": "OlVepEX0QT6I",
        "colab_type": "code",
        "colab": {}
      },
      "source": [
        "print(\"Welcome to Ada!\")\n",
        "print(\"We're so glad you're here.\")"
      ],
      "execution_count": null,
      "outputs": []
    },
    {
      "cell_type": "code",
      "metadata": {
        "id": "f4FXirMEQC2f",
        "colab_type": "code",
        "colab": {}
      },
      "source": [
        "print(\"Welcome to Ada!\\nWe're so glad you're here.\")"
      ],
      "execution_count": null,
      "outputs": []
    },
    {
      "cell_type": "markdown",
      "metadata": {
        "id": "eR-gz7u8QyEt",
        "colab_type": "text"
      },
      "source": [
        "## Notes\n",
        "\n",
        "*Double click on this text box and edit the contents to jot down any questions or thoughts you have.*\n",
        "\n",
        "---"
      ]
    },
    {
      "cell_type": "markdown",
      "metadata": {
        "id": "O_tTBDKBVfWl",
        "colab_type": "text"
      },
      "source": [
        "# Programming Grammar"
      ]
    },
    {
      "cell_type": "markdown",
      "metadata": {
        "id": "KYAQwhNUVkVi",
        "colab_type": "text"
      },
      "source": [
        "## Learning Goals\n",
        "* Understand and identify different data types (string, integer, float)\n",
        "* Assign data to variables\n",
        "* Use the `print` function\n",
        "* Understand and use string concatenation and string interpolation\n",
        "* Practice debugging Python code"
      ]
    }
  ]
}