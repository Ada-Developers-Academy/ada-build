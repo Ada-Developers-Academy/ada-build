{
  "nbformat": 4,
  "nbformat_minor": 0,
  "metadata": {
    "colab": {
      "name": "06_lists.ipynb",
      "provenance": [],
      "collapsed_sections": [],
      "toc_visible": true,
      "include_colab_link": true
    },
    "kernelspec": {
      "name": "python3",
      "display_name": "Python 3"
    }
  },
  "cells": [
    {
      "cell_type": "markdown",
      "metadata": {
        "id": "view-in-github",
        "colab_type": "text"
      },
      "source": [
        "<a href=\"https://colab.research.google.com/github/Ada-Developers-Academy/ada-build/blob/build-reorg/06_lists.ipynb\" target=\"_parent\"><img src=\"https://colab.research.google.com/assets/colab-badge.svg\" alt=\"Open In Colab\"/></a>"
      ]
    },
    {
      "cell_type": "markdown",
      "metadata": {
        "id": "d_qCNQtGk30o",
        "colab_type": "text"
      },
      "source": [
        "# Lists\n",
        "\n",
        "_Ada Build - Intro to Python - Lesson 6_"
      ]
    },
    {
      "cell_type": "markdown",
      "metadata": {
        "id": "KjqmyX3hlI_h",
        "colab_type": "text"
      },
      "source": [
        "# Learning Goals\n",
        "\n",
        "By the end of this lesson you should be able to:\n",
        "* Define the following: data structure, list, index, value.\n",
        "* Understand what a data structure is and how it can be used.\n",
        "* Create a new list.\n",
        "* Access data in a list.\n",
        "* Add data to a list.\n",
        "* Loop through data in a list."
      ]
    },
    {
      "cell_type": "markdown",
      "metadata": {
        "id": "-LuHG9y6ltDg",
        "colab_type": "text"
      },
      "source": [
        "# Notes"
      ]
    },
    {
      "cell_type": "markdown",
      "metadata": {
        "id": "7fZ3_RBmluGJ",
        "colab_type": "text"
      },
      "source": [
        "## Overview\n",
        "\n",
        "Lists are the most common data type used to create collections in Python.\n",
        "\n",
        "A [`List`](https://docs.python.org/3/tutorial/introduction.html#lists) is an _ordered_ collection of objects enclosed by square brackets `[]`.\n",
        "\n",
        "List Example:\n",
        "```python\n",
        "[1, 10, 33, 50, 2, 7]\n",
        "```"
      ]
    },
    {
      "cell_type": "markdown",
      "metadata": {
        "id": "sz-NLMcymVZQ",
        "colab_type": "text"
      },
      "source": [
        "## Creating Lists\n",
        "\n",
        "A list can be created to be empty to begin with or with an initial set of values. Regardless of whether we are creating an empty list or a list with data, there are two different ways to create a new list.\n",
        "\n"
      ]
    },
    {
      "cell_type": "markdown",
      "metadata": {
        "id": "pBifTlR8n2Fw",
        "colab_type": "text"
      },
      "source": [
        "### Empty\n",
        "\n",
        "In the first way, we initialize an **empty** `List` by using `[]`. A list can be assigned to a variable like any other data type:\n",
        "\n",
        "```python\n",
        "my_list = []\n",
        "```\n",
        "\n",
        "The second way is to explicitly create a new instance of the `List` class defined in the Python core library.\n",
        "\n",
        "```python\n",
        "my_list = list()\n",
        "```\n",
        "\n",
        "We know that this list is empty because the list definition starts with the `[`(left square bracket) and ends with the `]`(right square bracket), and there is nothing between those two symbols.\n",
        "\n",
        "Run the code cells below to see the empty lists.\n"
      ]
    },
    {
      "cell_type": "code",
      "metadata": {
        "id": "MqItSGcvoDMV",
        "colab_type": "code",
        "colab": {}
      },
      "source": [
        "my_list = []\n",
        "my_list"
      ],
      "execution_count": null,
      "outputs": []
    },
    {
      "cell_type": "code",
      "metadata": {
        "id": "5-eF7_XVoPnp",
        "colab_type": "code",
        "colab": {}
      },
      "source": [
        "my_list = list()\n",
        "my_list"
      ],
      "execution_count": null,
      "outputs": []
    },
    {
      "cell_type": "markdown",
      "metadata": {
        "id": "kbjypfmGoZFE",
        "colab_type": "text"
      },
      "source": [
        "### With Data\n",
        "\n",
        "We can utilize the square bracket syntax to initialize a new `List` _with data_.\n",
        "\n",
        "Run the code cells below to see lists with data.\n"
      ]
    },
    {
      "cell_type": "code",
      "metadata": {
        "id": "drsjY4PipVqo",
        "colab_type": "code",
        "colab": {}
      },
      "source": [
        "numbers = [1, 2, 3, 4]\n",
        "numbers"
      ],
      "execution_count": null,
      "outputs": []
    },
    {
      "cell_type": "code",
      "metadata": {
        "id": "YP20dzrCpe9h",
        "colab_type": "code",
        "colab": {}
      },
      "source": [
        "words = [\"apple\", \"hello\", \"ada\"]\n",
        "words "
      ],
      "execution_count": null,
      "outputs": []
    },
    {
      "cell_type": "code",
      "metadata": {
        "id": "rWAlxFuUpk4T",
        "colab_type": "code",
        "colab": {
          "base_uri": "https://localhost:8080/",
          "height": 35
        },
        "outputId": "5f19fbac-abf2-49e9-c4d4-1281ad4b3c62"
      },
      "source": [
        "numbers_and_words = [1, \"ada\", 1.5]\n",
        "numbers_and_words"
      ],
      "execution_count": null,
      "outputs": [
        {
          "output_type": "execute_result",
          "data": {
            "text/plain": [
              "[1, 'ada', 1.5]"
            ]
          },
          "metadata": {
            "tags": []
          },
          "execution_count": 12
        }
      ]
    },
    {
      "cell_type": "markdown",
      "metadata": {
        "id": "1A_djvWEmeG0",
        "colab_type": "text"
      },
      "source": [
        "We can also utilize the `list` function to create a list with data.\n",
        "\n",
        "Run the code cells below to see lists created by using `list` with different arguments."
      ]
    },
    {
      "cell_type": "code",
      "metadata": {
        "id": "mVA_N7x9qTMp",
        "colab_type": "code",
        "colab": {
          "base_uri": "https://localhost:8080/",
          "height": 35
        },
        "outputId": "40d1bf66-8271-4d03-e780-d0fb6b6cbb3a"
      },
      "source": [
        "numbers = list(range(1,5))\n",
        "numbers"
      ],
      "execution_count": null,
      "outputs": [
        {
          "output_type": "execute_result",
          "data": {
            "text/plain": [
              "[1, 2, 3, 4]"
            ]
          },
          "metadata": {
            "tags": []
          },
          "execution_count": 14
        }
      ]
    },
    {
      "cell_type": "code",
      "metadata": {
        "id": "Lsyw-awJlsQv",
        "colab_type": "code",
        "colab": {
          "base_uri": "https://localhost:8080/",
          "height": 35
        },
        "outputId": "d1e62781-b1fc-40c0-f796-dfd3345350ba"
      },
      "source": [
        "banana_list = list(\"banana\")\n",
        "banana_list"
      ],
      "execution_count": null,
      "outputs": [
        {
          "output_type": "execute_result",
          "data": {
            "text/plain": [
              "['b', 'a', 'n', 'a', 'n', 'a']"
            ]
          },
          "metadata": {
            "tags": []
          },
          "execution_count": 13
        }
      ]
    },
    {
      "cell_type": "markdown",
      "metadata": {
        "id": "0xHq9qtXvh0a",
        "colab_type": "text"
      },
      "source": [
        "### Data Types\n",
        "\n",
        "Note that lists can store all sorts of data including but not limited to integers, floats and strings. In Python, it is not a requirement that all items stored in the list be of the same type (i.e. you may create a list with a string as the first element, an integer as the second element and so on). Often times, however, to solve a problem, a programmer may choose to make an list of the same data type."
      ]
    },
    {
      "cell_type": "markdown",
      "metadata": {
        "id": "YrKxIuvbqb0T",
        "colab_type": "text"
      },
      "source": [
        "### Exercise: Creating Lists\n",
        "\n",
        "Create the following lists in the code cell below using both methods, where possible: square brackets `[]` and `list(arguments)`.\n",
        "\n",
        "Assign the lists to variables `exercise1`, `exercise2`, etc.\n",
        "\n",
        "1. `[5, 6, 7, 8, 9, 10]`\n",
        "2. `[]`\n",
        "3. `[\"a\", \"b\", \"c\"]`\n",
        "4. `[\"ada\", \"lovelace\", 1]`"
      ]
    },
    {
      "cell_type": "code",
      "metadata": {
        "id": "EFdf5F8fuMIp",
        "colab_type": "code",
        "colab": {}
      },
      "source": [
        "# replace ... with appropriate list using []\n",
        "list1 = ...\n",
        "list2 = ...\n",
        "list3 = ...\n",
        "list4 = ...\n",
        "\n",
        "print(list1)\n",
        "print(list2)\n",
        "print(list3)\n",
        "print(list4)\n",
        "\n",
        "# replace ... with appropriate list using list()\n",
        "list1 = ...\n",
        "list2 = ...\n",
        "list3 = ...\n",
        "list4 = ...\n",
        "\n",
        "print(list1)\n",
        "print(list2)\n",
        "print(list3)\n",
        "print(list4)"
      ],
      "execution_count": null,
      "outputs": []
    },
    {
      "cell_type": "markdown",
      "metadata": {
        "id": "ImcjQHn1rrbI",
        "colab_type": "text"
      },
      "source": [
        "## Indices\n",
        "\n",
        "Lists are integer-indexed starting at __zero__. Counting in computer science typically [begins with zero](http://skillcrush.com/2013/01/17/why-programmers-start-counting-at-zero/). This means that **each item** in the list corresponds to an **integer value**, and that integer is used to access an object within the `List`. The first object is at index 0, the second object is at index 1 and so on. Indexing and slicing with `List`s is very similar to Indexing and slicing with `String`s!\n",
        "\n",
        "You can think of the index as saying how many items away from the _start_ of the list you would like to access.  The start of the list is of course 0 items away from itself.\n",
        "\n"
      ]
    },
    {
      "cell_type": "markdown",
      "metadata": {
        "id": "xKti649pEHvs",
        "colab_type": "text"
      },
      "source": [
        "### Slicing and Negative Indices\n",
        "\n",
        "To take a slice of a list, you can pass one, two, or three values.\n",
        "\n",
        "`list[I]` will provide give a single element.\n",
        "`list[I:J]` will provide a section of elements from index I up to, but not including index `J`.\n",
        "`list[I:J:K]` will provide a section of elements from index I up to, but not including index `J`, stepping by the interval `K`.\n",
        "Note that if you provide an index greater than the length of the list, an IndexError will occur.\n",
        "\n",
        "In Python, lists also uses negative indexing. The `-1` index is the last element in the list, the `-2` index is the second to last element in the list, and so on."
      ]
    },
    {
      "cell_type": "markdown",
      "metadata": {
        "id": "E8Vu86yCsRIu",
        "colab_type": "text"
      },
      "source": [
        "### Exercise\n",
        "\n",
        "Read the code cells below and predict the ouput. Run the code cell to check your answers."
      ]
    },
    {
      "cell_type": "code",
      "metadata": {
        "id": "ZvO5ssKxsA1y",
        "colab_type": "code",
        "colab": {}
      },
      "source": [
        "# exercise 1\n",
        "numbers = [1, 10, 33, 50, 2, 7]\n",
        "print(numbers[0]) \n",
        "print(numbers[1]) \n",
        "print(numbers[2]) \n",
        "print(numbers[3]) \n",
        "print(numbers[4]) \n",
        "print(numbers[5]) \n",
        "print(numbers[6]) "
      ],
      "execution_count": null,
      "outputs": []
    },
    {
      "cell_type": "markdown",
      "metadata": {
        "id": "40eq24mFsLMg",
        "colab_type": "text"
      },
      "source": [
        "The table below maps the data to their corresponding indices for the list `numbers`.\n",
        "\n",
        "| Value |  1  |  10 |  33 |  50 | 2   |  7  |\n",
        "| :---- | :-- | :-- | :-- | :-- | :-- | :-- |\n",
        "| Index | [0] | [1] | [2] | [3] | [4] | [5] |\n",
        "\n"
      ]
    },
    {
      "cell_type": "code",
      "metadata": {
        "id": "Q8iHpdo8sqGj",
        "colab_type": "code",
        "colab": {}
      },
      "source": [
        "# exercise 2\n",
        "numbers = [1, 2, 3, 4]\n",
        "print(numbers[2])\n",
        "print(numbers[1:3])\n",
        "print(numbers[-1])\n",
        "print(numbers[0:3:2])\n",
        "\n",
        "# exercise 3\n",
        "empty_list = [None, None, None]\n",
        "print(empty_list)\n",
        "\n",
        "# exercise 4\n",
        "zeros = [0] * 5\n",
        "print(zeros[2])"
      ],
      "execution_count": null,
      "outputs": []
    },
    {
      "cell_type": "markdown",
      "metadata": {
        "id": "TwsuYhP8st6O",
        "colab_type": "text"
      },
      "source": [
        "_numbers_\n",
        "\n",
        "| Value |  1  |  2 |  3 |  4 |\n",
        "| :---- | :-- | :-- | :-- | :-- |\n",
        "| Index | [0] | [1] | [2] | [3] |\n",
        "\n",
        "_empty_list_\n",
        "\n",
        "| Value |  None  |  None |  None |\n",
        "| :---- | :-- | :-- | :-- |\n",
        "| Index | [0] | [1] | [2] |\n",
        "\n",
        "_zeros_\n",
        "\n",
        "| Value |  0  |  0 |  0 | 0 |  0 |\n",
        "| :---- | :-- | :-- | :-- | :-- | :-- |\n",
        "| Index | [0] | [1] | [2] | [3] | [4] |"
      ]
    },
    {
      "cell_type": "markdown",
      "metadata": {
        "id": "egFv1w9mvwwV",
        "colab_type": "text"
      },
      "source": [
        "## Data Assignment\n",
        "\n",
        "Lists allow you to assign and reassign values within an list.\n",
        "\n",
        "Each spot in the list acts like a variable. You can see what object is referenced by a particular index in the list. You can also change a particular index to refer to a different object."
      ]
    },
    {
      "cell_type": "markdown",
      "metadata": {
        "id": "B0pIgdqvNTC5",
        "colab_type": "text"
      },
      "source": [
        "### Exercise\n",
        "\n",
        "Read the code cells below and make a prediction about the output. Run the cells to check your answers."
      ]
    },
    {
      "cell_type": "code",
      "metadata": {
        "id": "IBLz3yRaNJLd",
        "colab_type": "code",
        "colab": {}
      },
      "source": [
        "animals = [\"bird\", \"horse\", \"cat\", \"monkey\"]\n",
        "animals"
      ],
      "execution_count": null,
      "outputs": []
    },
    {
      "cell_type": "code",
      "metadata": {
        "id": "5844jbE0NLtc",
        "colab_type": "code",
        "colab": {}
      },
      "source": [
        "animals[0]"
      ],
      "execution_count": null,
      "outputs": []
    },
    {
      "cell_type": "code",
      "metadata": {
        "id": "k3hDWjnBNOSX",
        "colab_type": "code",
        "colab": {}
      },
      "source": [
        "animals[0] = \"parrot\"\n",
        "animals[0]"
      ],
      "execution_count": null,
      "outputs": []
    },
    {
      "cell_type": "code",
      "metadata": {
        "id": "VjtoMPjDNQSJ",
        "colab_type": "code",
        "colab": {}
      },
      "source": [
        "animals"
      ],
      "execution_count": null,
      "outputs": []
    },
    {
      "cell_type": "markdown",
      "metadata": {
        "id": "6gy2Wwetv0mO",
        "colab_type": "text"
      },
      "source": [
        "## Using Built-In Methods\n",
        "\n",
        "List is a built-in class available in Python. Lists have [many built-in functions and methods](https://docs.python.org/3/tutorial/datastructures.html?highlight=lists#more-on-lists) that we commonly utilize. We will introduce the function `len` and method `append` now.\n",
        "\n",
        "_Recall that functions are invoked with the syntax `function_name(argument)` and methods are invoked with the syntax `object.method_name` (a method is a function associated with a specific instance of an object)._\n",
        "\n"
      ]
    },
    {
      "cell_type": "markdown",
      "metadata": {
        "id": "wmjVbQvWQk_j",
        "colab_type": "text"
      },
      "source": [
        "### Exercise\n",
        "\n",
        "Read the code cells below and make a prediction about the output. Run the cells to check your answers."
      ]
    },
    {
      "cell_type": "markdown",
      "metadata": {
        "id": "3Jz1L0WGN4fe",
        "colab_type": "text"
      },
      "source": [
        "#### `len`\n",
        "\n",
        "This function returns the number of elements in the list."
      ]
    },
    {
      "cell_type": "code",
      "metadata": {
        "id": "aEb9ojwHN_OF",
        "colab_type": "code",
        "colab": {}
      },
      "source": [
        "animals = [\"bird\", \"horse\", \"cat\", \"monkey\"]\n",
        "len(animals)"
      ],
      "execution_count": null,
      "outputs": []
    },
    {
      "cell_type": "markdown",
      "metadata": {
        "id": "3a1I-GrIPxxn",
        "colab_type": "text"
      },
      "source": [
        "#### `append`\n",
        "\n",
        "This methods appends a given object to the end of a list."
      ]
    },
    {
      "cell_type": "code",
      "metadata": {
        "id": "Wc4QPbFeQYNX",
        "colab_type": "code",
        "colab": {}
      },
      "source": [
        "animals = [\"bird\", \"horse\", \"cat\", \"monkey\"]\n",
        "animals.append(\"dog\")\n",
        "print(animals) \n",
        "print(len(animals))\n",
        "print(animals[4])"
      ],
      "execution_count": null,
      "outputs": []
    },
    {
      "cell_type": "markdown",
      "metadata": {
        "id": "_iGJNdz3v28L",
        "colab_type": "text"
      },
      "source": [
        "## Looping over a list\n",
        "\n",
        "Earlier, in the lesson on iterators, we looked at how different iterators and loops work. Now, let's take a closer look at how loops or iterators work together with lists."
      ]
    },
    {
      "cell_type": "markdown",
      "metadata": {
        "id": "1fqtXiWIE4dc",
        "colab_type": "text"
      },
      "source": [
        "### `for` loops and `range`\n",
        "\n",
        "Recall the `for` loop with the `range` function from the previous lesson.\n",
        "\n",
        "We can leverage the fact that the `range` function begins counting at `0` and the index of the first element in an list is also `0`. Combining this knowledge and utilizing the in-built function `len` to get the count of elements in the list, we can retrieve the value of each element in the list like so (_Run the code cell to see the output_):"
      ]
    },
    {
      "cell_type": "code",
      "metadata": {
        "id": "lIDy8ixuFES6",
        "colab_type": "code",
        "colab": {}
      },
      "source": [
        "# Example 1\n",
        "# An list of veggies\n",
        "veggies = [\"carrot\", \"yam\", \"zucchini\", \"spinach\"]\n",
        "veggie_count = len(veggies)\n",
        "# the value of 4 will get assigned to variable veggie_count\n",
        "\n",
        "for i in range(veggie_count):\n",
        "    print(f\"Vegetable {i+1}: {veggies[i]}\")\n",
        "\n",
        "# -- output:--\n",
        "# Vegetable 1: carrot\n",
        "# Vegetable 2: yam\n",
        "# Vegetable 3: zucchini\n",
        "# Vegetable 4: spinach"
      ],
      "execution_count": null,
      "outputs": []
    },
    {
      "cell_type": "markdown",
      "metadata": {
        "id": "2LJLXmbKFloM",
        "colab_type": "text"
      },
      "source": [
        "In the example below, we determine the length of the `names` list. Then, we use the `for` loop to retrieve the index of each element in the list. In the body of the loop, we use the index to retrieve the value of the element in the list at that index."
      ]
    },
    {
      "cell_type": "code",
      "metadata": {
        "id": "dic8T7ZHFuhI",
        "colab_type": "code",
        "colab": {}
      },
      "source": [
        "# Example 2\n",
        "# An list of names\n",
        "names = [\"Usagi\", \"Rei\", \"Ami\", \"Makoto\", \"Minako\"]\n",
        "\n",
        "for i in range(len(names)):\n",
        "    print(f\"Hello {names[i]}!\")\n",
        "\n",
        "#--output:--\n",
        "# Hello Usagi!\n",
        "# Hello Rei!\n",
        "# Hello Ami!\n",
        "# Hello Makoto!\n",
        "# Hello Minako!"
      ],
      "execution_count": null,
      "outputs": []
    },
    {
      "cell_type": "markdown",
      "metadata": {
        "id": "0tRz2u1JGMXL",
        "colab_type": "text"
      },
      "source": [
        "#### Exercise\n",
        "\n",
        "In the code cell below, write a for loop that prints out `\"I love vegetable_name\"` using the vegetable list from Example 1."
      ]
    },
    {
      "cell_type": "code",
      "metadata": {
        "id": "PELSnkIqGgu0",
        "colab_type": "code",
        "colab": {}
      },
      "source": [
        "veggies = [\"carrot\", \"yam\", \"zucchini\", \"spinach\"]\n",
        "\n",
        "# your code goes here"
      ],
      "execution_count": null,
      "outputs": []
    },
    {
      "cell_type": "markdown",
      "metadata": {
        "id": "CCt8pSMBUU4N",
        "colab_type": "text"
      },
      "source": [
        "### `for` directly on a list\n",
        "\n",
        "In the previous lesson, we looked at how `for` iterator could work over a range. We can also use the `for` iterator to retrieve each item in a collection like a list.  This is commonly called a `for-each` loop in other programming languages.\n",
        "\n",
        "In the example below, the `for` iterator will iterate over the `veggies` list. For each iteration, the `vegetable` variable will be assigned to the value of the next element in the list, starting with the first."
      ]
    },
    {
      "cell_type": "code",
      "metadata": {
        "id": "dKNmP_BsG64V",
        "colab_type": "code",
        "colab": {}
      },
      "source": [
        "# Example 3\n",
        "# An list of veggies\n",
        "veggies = [\"carrot\", \"yam\", \"zucchini\", \"spinach\"]\n",
        "\n",
        "for vegetable in veggies:\n",
        "  print(f\"a vegetable: {vegetable}\")\n",
        "\n",
        "# --output--\n",
        "# a vegetable: carrot\n",
        "# a vegetable: yam\n",
        "# a vegetable: zucchini\n",
        "# a vegetable: spinach"
      ],
      "execution_count": null,
      "outputs": []
    },
    {
      "cell_type": "markdown",
      "metadata": {
        "id": "CuOoTXdUHSR5",
        "colab_type": "text"
      },
      "source": [
        "In the example below, the iterator will iterate over the `names` list. For each iteration, the `name` variable will be assigned to the value of the next element in the list, starting with the first. The block of code will be executed for each name, which will say hello to each person!\n"
      ]
    },
    {
      "cell_type": "code",
      "metadata": {
        "id": "9dUsOmJaHTtL",
        "colab_type": "code",
        "colab": {}
      },
      "source": [
        "# Example 4\n",
        "# An list of names\n",
        "names = [\"Usagi\", \"Rei\", \"Ami\", \"Makoto\", \"Minako\"]\n",
        "\n",
        "for name in names:\n",
        "    print(f\"Hello {name}!\")\n",
        "\n",
        "#--output--\n",
        "# Hello Usagi!\n",
        "# Hello Rei!\n",
        "# Hello Ami!\n",
        "# Hello Makoto!\n",
        "# Hello Minako!"
      ],
      "execution_count": null,
      "outputs": []
    },
    {
      "cell_type": "markdown",
      "metadata": {
        "id": "amOH4OP-HpjX",
        "colab_type": "text"
      },
      "source": [
        "# Exercise\n",
        "\n",
        "In the code cell below, write a for loop that operates directly on a list and prints out `\"I love vegetable_name\"` using the vegetable list from Example 1/3."
      ]
    },
    {
      "cell_type": "code",
      "metadata": {
        "id": "grK3rcCWH7KB",
        "colab_type": "code",
        "colab": {}
      },
      "source": [
        "veggies = [\"carrot\", \"yam\", \"zucchini\", \"spinach\"]\n",
        "\n",
        "# your code goes here"
      ],
      "execution_count": null,
      "outputs": []
    },
    {
      "cell_type": "markdown",
      "metadata": {
        "id": "3OLx5iHHRqRh",
        "colab_type": "text"
      },
      "source": [
        "## Index Errors\n",
        "\n",
        "A common error to encounter when working with lists is an `IndexError`"
      ]
    },
    {
      "cell_type": "markdown",
      "metadata": {
        "id": "hXGNRolFSI7Z",
        "colab_type": "text"
      },
      "source": [
        "### Debugging `IndexError`<small>s</small>\n",
        "\n",
        "Run the code cell below and read the error messages. Try to fix the error. "
      ]
    },
    {
      "cell_type": "code",
      "metadata": {
        "id": "eLgbulEQznIs",
        "colab_type": "code",
        "colab": {}
      },
      "source": [
        "# code block 1\n",
        "falcon = [\"Solo\"]\n",
        "\n",
        "# Access \"Solo\"\n",
        "falcon[1]"
      ],
      "execution_count": null,
      "outputs": []
    },
    {
      "cell_type": "code",
      "metadata": {
        "id": "3oz0NmJKzVaZ",
        "colab_type": "code",
        "colab": {}
      },
      "source": [
        "# code block 2\n",
        "names = [\"Usagi\", \"Rei\", \"Ami\", \"Makoto\", \"Minako\"]\n",
        "\n",
        "# Access the 5th name!\n",
        "names[5]"
      ],
      "execution_count": null,
      "outputs": []
    },
    {
      "cell_type": "markdown",
      "metadata": {
        "id": "YyApo1d40a_b",
        "colab_type": "text"
      },
      "source": [
        "#### Solutions"
      ]
    },
    {
      "cell_type": "markdown",
      "metadata": {
        "id": "z-t-MP7I0cDq",
        "colab_type": "text"
      },
      "source": [
        "**Code Block 1**\n",
        "\n",
        "The `IndexError` message is a little less helpful than previous error messages.  We still see the relevant line that caused the issue but only get told: `list index out of range`.\n",
        "\n",
        "![error from code block 1](https://drive.google.com/uc?id=1mzVIoS_4AcJmIKa22_i0xsRI92-1O-Ov)\n",
        "\n",
        "\n",
        "The error here is that the first element of the list is 0, not 1."
      ]
    },
    {
      "cell_type": "markdown",
      "metadata": {
        "id": "tx0XjN1H2f7q",
        "colab_type": "text"
      },
      "source": [
        "**Code Block 2**\n",
        "\n",
        "Like above the error here isn't super helpful beyond knowing it's an `IndexError`.\n",
        "\n",
        "![error from code block 2](https://drive.google.com/uc?id=1XElHmKFiSWqSHT8u_GnxaYZaTSiO-zvx)\n",
        "\n",
        "The error here is that we didn't start counting from 0.  When we want to access the 5th element in a list we need to use `names[4]` instead of `names[5]`."
      ]
    },
    {
      "cell_type": "markdown",
      "metadata": {
        "id": "W6hkbXeSwDjS",
        "colab_type": "text"
      },
      "source": [
        "# Practice Problems\n",
        "\n",
        "Read the code in each section, then write exactly what the code prints out. Use the code cell below to check your answers."
      ]
    },
    {
      "cell_type": "markdown",
      "metadata": {
        "id": "upTMkHkzSfH_",
        "colab_type": "text"
      },
      "source": [
        "## 1. Indexing and Appending Lists"
      ]
    },
    {
      "cell_type": "code",
      "metadata": {
        "id": "6wHNvmUesJAi",
        "colab_type": "code",
        "colab": {}
      },
      "source": [
        ""
      ],
      "execution_count": null,
      "outputs": []
    },
    {
      "cell_type": "markdown",
      "metadata": {
        "id": "C4E9NzO3sMYF",
        "colab_type": "text"
      },
      "source": [
        "\n",
        "```python\n",
        "# problem 1.1\n",
        "random_data = [\"b\", \"a\", 1, 3, 99, \"c\"]\n",
        "print(random_data[4])\n",
        "print(random_data[2] + 10)\n",
        "print(random_data[1] + random_data[0])\n",
        "```\n",
        "\n",
        "```python\n",
        "# problem 1.2\n",
        "numeric_data = []\n",
        "numeric_data.append(2)\n",
        "numeric_data.append(4)\n",
        "numeric_data.append(6)\n",
        "numeric_data.append(8)\n",
        "\n",
        "print(len(numeric_data))\n",
        "print(numeric_data[1])\n",
        "```\n",
        "\n",
        "```python\n",
        "#problem 1.3\n",
        "my_list = [\"dog\", 5, \"cat\", 2, \"horse\", 1]\n",
        "print(my_list[6])\n",
        "print(my_list[-1])\n",
        "```"
      ]
    },
    {
      "cell_type": "markdown",
      "metadata": {
        "id": "epfkIYSgr-c9",
        "colab_type": "text"
      },
      "source": [
        "## 2. Looping over a list"
      ]
    },
    {
      "cell_type": "code",
      "metadata": {
        "id": "v5DbRLbuUFaF",
        "colab_type": "code",
        "colab": {}
      },
      "source": [
        ""
      ],
      "execution_count": null,
      "outputs": []
    },
    {
      "cell_type": "markdown",
      "metadata": {
        "id": "pKoCF4z1UIK9",
        "colab_type": "text"
      },
      "source": [
        "```python\n",
        "# problem 2.1\n",
        "cars = [\"old\", \"new\", \"used\"]\n",
        "for car in cars:\n",
        "    print(car)\n",
        "```\n",
        "\n",
        "```python\n",
        "# problem 2.2\n",
        "fruits = [\"banana\", \"apple\", \"kiwi\"]\n",
        "for fruit in fruits:\n",
        "    print(f\"I love {fruit}!\")\n",
        "```\n",
        "\n",
        "```python\n",
        "# problem 2.3\n",
        "values = [8, 5, 3, 10, 14, 2]\n",
        "for value in values:\n",
        "    print(value)\n",
        "```\n",
        "\n",
        "```python\n",
        "# problem 2.4\n",
        "total = 0\n",
        "values = [4, 6, 2, 8, 11]\n",
        "\n",
        "for value in values:\n",
        "    total += value\n",
        "\n",
        "print(total)\n",
        "```\n",
        "\n",
        "```python\n",
        "# problem 2.5\n",
        "values = [8, 5, 3, 10, 14, 2]\n",
        "for value in values:\n",
        "  if value == 10:\n",
        "    print(\"Special case!\")\n",
        "  else:\n",
        "    print(f\"Regular values like {value}\")\n",
        "```\n",
        "\n"
      ]
    },
    {
      "cell_type": "markdown",
      "metadata": {
        "id": "liJCNcpGt5iJ",
        "colab_type": "text"
      },
      "source": [
        "# Project: Account Generator\n",
        "\n",
        "We are going to write a program that generates some student information. This exercise will practice our skills with strings, random numbers, lists and iterators."
      ]
    },
    {
      "cell_type": "markdown",
      "metadata": {
        "id": "153U2rskBqwt",
        "colab_type": "text"
      },
      "source": [
        "## Requirements\n",
        "\n",
        "1. You will start by creating three lists:\n",
        "  * A list that will contain student names.\n",
        "  * A list that will contain student id numbers.\n",
        "  * A list that will contain student email addresses.\n",
        "  \n",
        "  **Note:** Make sure to name your variables appropriately so that it is easy to deduce the information stored in each list and that this information is not singular. e.g.\n",
        "`flowers = [\"lily\", \"rose\", \"gardenia\", \"daisy\"]` vs. `flower = \"tulip\"`.\n",
        "\n",
        "2. Make a list that contains five student names (first and last).\n",
        "\n",
        "  Example output:\n",
        "\n",
        "| Value |  \"ROSIE MARTINEZ\"  |  \"JOE LIU\" |  \"SALLY SUE\" |  \"BOB JOHNSON\" | \"DELIA AGHO\"   |\n",
        "| :---- | :-- | :-- | :-- | :-- | :-- |\n",
        "| Index | [0] | [1] | [2] | [3] | [4] |\n",
        "\n",
        "3. Write a loop to generate random student ID numbers from 111111 to 999999 and store those values in the student ID number list.\n",
        "\n",
        "  Example output:\n",
        "\n",
        "| Value |  123256  |  349222 | 999999 | 111112 | 726488   |\n",
        "| :---- | :-- | :-- | :-- | :-- | :-- |\n",
        "| Index | [0] | [1] | [2] | [3] | [4] |\n",
        "\n",
        "4. Write a loop to generate student email addresses in the format: (first inital)+(last name)+(last 3 digits of student ID number)@example.org and put these values in the student email list.\n",
        "\n",
        "  Example output:\n",
        "\n",
        "| Value |  \"RMARTINEZ256@example.org\"  |  \"JLIU222@example.org\" |  \"SSUE999@example.org\" |  \"BJOHNSON112@example.org\" | \"DAGHO488@example.org\"   |\n",
        "  | :---- | :-- | :-- | :-- | :-- | :-- |\n",
        "  | Index | [0] | [1] | [2] | [3] | [4] |\n",
        "\n",
        "5. Write the code which will print out all the student names, ID numbers, and email addresses in parallel."
      ]
    },
    {
      "cell_type": "code",
      "metadata": {
        "id": "wctsd4lxiO0g",
        "colab_type": "code",
        "colab": {}
      },
      "source": [
        "# your code goes here"
      ],
      "execution_count": null,
      "outputs": []
    },
    {
      "cell_type": "markdown",
      "metadata": {
        "id": "A7jt-Ktif80Y",
        "colab_type": "text"
      },
      "source": [
        "[A solution is linked here](https://repl.it/@BeccaElenzil/account-generator-v1)."
      ]
    },
    {
      "cell_type": "markdown",
      "metadata": {
        "id": "VwCkdkoZBu2N",
        "colab_type": "text"
      },
      "source": [
        "## Optional Enhancements\n",
        "\n",
        "* write a loop for requirement 2 that prompts the user for 5 names rather than hard coding the data.\n",
        "* make sure none of the IDs are duplicates.\n",
        "* account for ID numbers whose last 3 digits are less than 100 (e.g. 111008) because these ID numbers will generate an email address with less than 3 digits at the end without special cases.\n",
        "* on email generation, account for first names with a space in them  \n",
        "  e.g. if the first name is \"Mary Jane\", then the first initial should be \"MJ\" rather than just \"M\".\n",
        "* read in the student names from a file and make the list size according to the number of names."
      ]
    },
    {
      "cell_type": "markdown",
      "metadata": {
        "id": "pu2eYdUYwFzY",
        "colab_type": "text"
      },
      "source": [
        "# Project: Rock, Paper, Scissors - Version 4\n",
        "\n",
        "Alter the `choose_rps` function from the _Rock, Paper, Scissors: Version 3_ code to make use of lists to randomly select `'rock'`, `paper`, or `scissors`. \n",
        "\n",
        "Here is a link to [our solution](https://repl.it/@BeccaElenzil/RPS-v3-1#main.py) for Version 3."
      ]
    },
    {
      "cell_type": "code",
      "metadata": {
        "id": "q0KeHq6nUtlJ",
        "colab_type": "code",
        "colab": {}
      },
      "source": [
        "def choose_rps():\n",
        "    # complete rock, paper, scissors project - v4 in this code cell"
      ],
      "execution_count": null,
      "outputs": []
    },
    {
      "cell_type": "markdown",
      "metadata": {
        "id": "G1umUMXuU0Xy",
        "colab_type": "text"
      },
      "source": [
        "[A solution is linked here](https://repl.it/@BeccaElenzil/Rock-Paper-Scissors-v4#main.py)."
      ]
    }
  ]
}